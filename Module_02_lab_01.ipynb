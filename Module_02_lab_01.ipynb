{
  "cells": [
    {
      "cell_type": "markdown",
      "metadata": {
        "id": "view-in-github",
        "colab_type": "text"
      },
      "source": [
        "<a href=\"https://colab.research.google.com/github/DostdarDost/DATA-SCIENCE-AND-ARTIFICIAL-INTELLIGENCE-DSAI-GILGIT/blob/main/Module_02_lab_01.ipynb\" target=\"_parent\"><img src=\"https://colab.research.google.com/assets/colab-badge.svg\" alt=\"Open In Colab\"/></a>"
      ]
    },
    {
      "cell_type": "markdown",
      "id": "d434055b",
      "metadata": {
        "id": "d434055b"
      },
      "source": [
        "![AI_course.png](attachment:AI_course.png)"
      ]
    },
    {
      "cell_type": "markdown",
      "id": "9e5310cb",
      "metadata": {
        "id": "9e5310cb"
      },
      "source": [
        "# Module_02, Lab_01, Numpy in Python\n",
        "NumPy is one of the fundamental packages for scientific computing in Python. It contains functionality for multidimensional arrays, high-level mathematical functions such as linear algebra operations and the Fourier transform, and pseudorandom number generators."
      ]
    },
    {
      "cell_type": "code",
      "execution_count": null,
      "id": "b82ec30f",
      "metadata": {
        "id": "b82ec30f"
      },
      "outputs": [],
      "source": [
        "import numpy as np"
      ]
    },
    {
      "cell_type": "code",
      "execution_count": null,
      "id": "34aff644",
      "metadata": {
        "id": "34aff644",
        "outputId": "970ba9e4-fe9b-445c-a271-8b6d7c4b3cdf"
      },
      "outputs": [
        {
          "data": {
            "text/plain": [
              "(2, 3)"
            ]
          },
          "execution_count": 5,
          "metadata": {},
          "output_type": "execute_result"
        }
      ],
      "source": [
        "x=np.array([[1,2,3],[4,5,6]])\n",
        "x.shape"
      ]
    },
    {
      "cell_type": "code",
      "execution_count": null,
      "id": "55f63875",
      "metadata": {
        "id": "55f63875",
        "outputId": "78d376bf-61f8-4e05-d9f6-c8e7f8d9f6cd"
      },
      "outputs": [
        {
          "data": {
            "text/plain": [
              "array([1, 4])"
            ]
          },
          "execution_count": 6,
          "metadata": {},
          "output_type": "execute_result"
        }
      ],
      "source": [
        "x[:,0]# 0th column"
      ]
    },
    {
      "cell_type": "code",
      "execution_count": null,
      "id": "902a2690",
      "metadata": {
        "id": "902a2690",
        "outputId": "dd591cb3-1fe4-4250-b34c-18724a9c6d00"
      },
      "outputs": [
        {
          "data": {
            "text/plain": [
              "array([2, 5])"
            ]
          },
          "execution_count": 7,
          "metadata": {},
          "output_type": "execute_result"
        }
      ],
      "source": [
        "x[:,1] # 1st column"
      ]
    },
    {
      "cell_type": "code",
      "execution_count": null,
      "id": "8d1722c9",
      "metadata": {
        "id": "8d1722c9",
        "outputId": "f24c3e91-934f-4b65-99cf-7455e7b50132"
      },
      "outputs": [
        {
          "data": {
            "text/plain": [
              "array([1, 2, 3])"
            ]
          },
          "execution_count": 8,
          "metadata": {},
          "output_type": "execute_result"
        }
      ],
      "source": [
        "x[0,:] # 0th row"
      ]
    },
    {
      "cell_type": "code",
      "execution_count": null,
      "id": "f151d8f6",
      "metadata": {
        "id": "f151d8f6",
        "outputId": "04dad15b-47fb-4568-b93e-b0b57343ed15"
      },
      "outputs": [
        {
          "data": {
            "text/plain": [
              "array([4, 5, 6])"
            ]
          },
          "execution_count": 9,
          "metadata": {},
          "output_type": "execute_result"
        }
      ],
      "source": [
        "x[1,:] # 1st row"
      ]
    },
    {
      "cell_type": "code",
      "execution_count": null,
      "id": "457abef0",
      "metadata": {
        "id": "457abef0",
        "outputId": "624fb258-7a15-470c-ebdd-a679e49fa1cc"
      },
      "outputs": [
        {
          "data": {
            "text/plain": [
              "array([[1., 1., 1.],\n",
              "       [1., 1., 1.],\n",
              "       [1., 1., 1.]])"
            ]
          },
          "execution_count": 12,
          "metadata": {},
          "output_type": "execute_result"
        }
      ],
      "source": [
        "x=np.ones((3,3))\n",
        "x"
      ]
    },
    {
      "cell_type": "code",
      "execution_count": null,
      "id": "ac47c2a6",
      "metadata": {
        "id": "ac47c2a6",
        "outputId": "ae4d8684-ca6b-403c-d271-18ea2c7c7663"
      },
      "outputs": [
        {
          "data": {
            "text/plain": [
              "array([0, 1, 2, 3, 4])"
            ]
          },
          "execution_count": 13,
          "metadata": {},
          "output_type": "execute_result"
        }
      ],
      "source": [
        "x= np.arange(5)# Create array\n",
        "x"
      ]
    },
    {
      "cell_type": "code",
      "execution_count": null,
      "id": "b65e92c2",
      "metadata": {
        "id": "b65e92c2",
        "outputId": "21a11ecb-05b3-4a91-9b71-230dc818a0ef"
      },
      "outputs": [
        {
          "name": "stdout",
          "output_type": "stream",
          "text": [
            "x:\n",
            "[[1 2 3]\n",
            " [4 5 6]]\n"
          ]
        }
      ],
      "source": [
        "import numpy as np # import the module numpy\n",
        "x = np.array([[1, 2, 3], [4, 5, 6]]) # Make the array in matrix\n",
        "print(\"x:\\n{}\".format(x)) # This line print the result"
      ]
    },
    {
      "cell_type": "markdown",
      "id": "9e740925",
      "metadata": {
        "id": "9e740925"
      },
      "source": [
        "## Using Loop"
      ]
    },
    {
      "cell_type": "code",
      "execution_count": null,
      "id": "a9b70eeb",
      "metadata": {
        "id": "a9b70eeb",
        "outputId": "5f860baf-e17d-4e93-8e54-4370712f5744"
      },
      "outputs": [
        {
          "name": "stdout",
          "output_type": "stream",
          "text": [
            "Squared values using a for loop: [1, 4, 9, 16, 25]\n"
          ]
        }
      ],
      "source": [
        "# Create an array\n",
        "a = np.array([1, 2, 3, 4, 5])\n",
        "\n",
        "# Calculate the square of each element using a for loop\n",
        "squared = []\n",
        "for i in a:\n",
        "    squared.append(i ** 2)\n",
        "\n",
        "print(\"Squared values using a for loop:\", squared)"
      ]
    },
    {
      "cell_type": "markdown",
      "id": "db099240",
      "metadata": {
        "id": "db099240"
      },
      "source": [
        "## 1. Vectorization"
      ]
    },
    {
      "cell_type": "markdown",
      "id": "dcbe117f",
      "metadata": {
        "id": "dcbe117f"
      },
      "source": [
        "### Vector Operation:"
      ]
    },
    {
      "cell_type": "code",
      "execution_count": null,
      "id": "df830505",
      "metadata": {
        "id": "df830505",
        "outputId": "a3349dba-0179-4401-f878-c907c8510439"
      },
      "outputs": [
        {
          "name": "stdout",
          "output_type": "stream",
          "text": [
            "Squared values using vectorized operation: [ 1  4  9 16 25]\n"
          ]
        }
      ],
      "source": [
        "# Calculate the square of each element using vectorized operation\n",
        "squared = a ** 2\n",
        "\n",
        "print(\"Squared values using vectorized operation:\", squared)"
      ]
    },
    {
      "cell_type": "markdown",
      "id": "6d5baa14",
      "metadata": {
        "id": "6d5baa14"
      },
      "source": [
        "#### The output is same but vectorized operation will be much faster than loop."
      ]
    },
    {
      "cell_type": "markdown",
      "id": "6dda7c7d",
      "metadata": {
        "id": "6dda7c7d"
      },
      "source": [
        "## 2. Broadcasting\n",
        "Fundamentally, it functions around one rule: arrays can be broadcast against each other if their dimensions match or if one of the arrays has a size of 1.\n",
        "\n",
        "Here’s a quick example. Array A has the shape (4, 1, 8), and array B has the shape (1, 6, 8)."
      ]
    },
    {
      "cell_type": "code",
      "execution_count": null,
      "id": "ae7f62d8",
      "metadata": {
        "id": "ae7f62d8",
        "outputId": "b1462087-b412-45c2-c6e5-ce20a515b1cd"
      },
      "outputs": [
        {
          "data": {
            "text/plain": [
              "array([[[ 0,  1,  2,  3,  4,  5,  6,  7]],\n",
              "\n",
              "       [[ 8,  9, 10, 11, 12, 13, 14, 15]],\n",
              "\n",
              "       [[16, 17, 18, 19, 20, 21, 22, 23]],\n",
              "\n",
              "       [[24, 25, 26, 27, 28, 29, 30, 31]]])"
            ]
          },
          "execution_count": 4,
          "metadata": {},
          "output_type": "execute_result"
        }
      ],
      "source": [
        "import numpy as np\n",
        "\n",
        "A = np.arange(32).reshape(4, 1, 8)\n",
        "\n",
        "A\n"
      ]
    },
    {
      "cell_type": "code",
      "execution_count": null,
      "id": "07cdede2",
      "metadata": {
        "id": "07cdede2",
        "outputId": "f17faf39-40f6-4646-aeaa-88734b12b590"
      },
      "outputs": [
        {
          "data": {
            "text/plain": [
              "array([[[ 0,  1,  2,  3,  4,  5,  6,  7],\n",
              "        [ 8,  9, 10, 11, 12, 13, 14, 15],\n",
              "        [16, 17, 18, 19, 20, 21, 22, 23],\n",
              "        [24, 25, 26, 27, 28, 29, 30, 31],\n",
              "        [32, 33, 34, 35, 36, 37, 38, 39],\n",
              "        [40, 41, 42, 43, 44, 45, 46, 47]]])"
            ]
          },
          "execution_count": 5,
          "metadata": {},
          "output_type": "execute_result"
        }
      ],
      "source": [
        "import numpy as np\n",
        "B = np.arange(48).reshape(1,6,8)\n",
        "B"
      ]
    },
    {
      "cell_type": "markdown",
      "id": "b095e923",
      "metadata": {
        "id": "b095e923"
      },
      "source": [
        "A has 4 planes, each with 1 row and 8 columns. B has only 1 plane with 6 rows and 8 columns. Watch what NumPy does for you when you try to do a calculation between them!\n",
        "\n",
        "Add the two arrays together:"
      ]
    },
    {
      "cell_type": "code",
      "execution_count": null,
      "id": "5a5dcc42",
      "metadata": {
        "id": "5a5dcc42",
        "outputId": "d51cf30e-4654-4a15-e05f-fed5c4fd7819"
      },
      "outputs": [
        {
          "data": {
            "text/plain": [
              "array([[[ 0,  2,  4,  6,  8, 10, 12, 14],\n",
              "        [ 8, 10, 12, 14, 16, 18, 20, 22],\n",
              "        [16, 18, 20, 22, 24, 26, 28, 30],\n",
              "        [24, 26, 28, 30, 32, 34, 36, 38],\n",
              "        [32, 34, 36, 38, 40, 42, 44, 46],\n",
              "        [40, 42, 44, 46, 48, 50, 52, 54]],\n",
              "\n",
              "       [[ 8, 10, 12, 14, 16, 18, 20, 22],\n",
              "        [16, 18, 20, 22, 24, 26, 28, 30],\n",
              "        [24, 26, 28, 30, 32, 34, 36, 38],\n",
              "        [32, 34, 36, 38, 40, 42, 44, 46],\n",
              "        [40, 42, 44, 46, 48, 50, 52, 54],\n",
              "        [48, 50, 52, 54, 56, 58, 60, 62]],\n",
              "\n",
              "       [[16, 18, 20, 22, 24, 26, 28, 30],\n",
              "        [24, 26, 28, 30, 32, 34, 36, 38],\n",
              "        [32, 34, 36, 38, 40, 42, 44, 46],\n",
              "        [40, 42, 44, 46, 48, 50, 52, 54],\n",
              "        [48, 50, 52, 54, 56, 58, 60, 62],\n",
              "        [56, 58, 60, 62, 64, 66, 68, 70]],\n",
              "\n",
              "       [[24, 26, 28, 30, 32, 34, 36, 38],\n",
              "        [32, 34, 36, 38, 40, 42, 44, 46],\n",
              "        [40, 42, 44, 46, 48, 50, 52, 54],\n",
              "        [48, 50, 52, 54, 56, 58, 60, 62],\n",
              "        [56, 58, 60, 62, 64, 66, 68, 70],\n",
              "        [64, 66, 68, 70, 72, 74, 76, 78]]])"
            ]
          },
          "execution_count": 6,
          "metadata": {},
          "output_type": "execute_result"
        }
      ],
      "source": [
        "A + B"
      ]
    },
    {
      "cell_type": "markdown",
      "id": "78c8b0e6",
      "metadata": {
        "id": "78c8b0e6"
      },
      "source": [
        "The way broadcasting works is that NumPy duplicates the plane in B three times so that you have a total of four, matching the number of planes in A. It also duplicates the single row in A five times for a total of six, matching the number of rows in B. Then it adds each element in the newly expanded A array to its counterpart in the same location in B. The result of each calculation shows up in the corresponding location of the output."
      ]
    },
    {
      "cell_type": "code",
      "execution_count": null,
      "id": "c31884fa",
      "metadata": {
        "id": "c31884fa",
        "outputId": "e31daec7-c8ff-4f40-854d-db1f2bc0f163"
      },
      "outputs": [
        {
          "name": "stdout",
          "output_type": "stream",
          "text": [
            "NumPy array:\n",
            "[[1. 0. 0. 0.]\n",
            " [0. 1. 0. 0.]\n",
            " [0. 0. 1. 0.]\n",
            " [0. 0. 0. 1.]]\n"
          ]
        }
      ],
      "source": [
        "# Create a 2D NumPy array with a diagonal of ones, and zeros everywhere else\n",
        "eye = np.eye(4)# We have to get 4 cross by 4 identies matrix\n",
        "print(\"NumPy array:\\n{}\".format(eye)) # prints its result\n"
      ]
    },
    {
      "cell_type": "markdown",
      "id": "002ae943",
      "metadata": {
        "id": "002ae943"
      },
      "source": [
        "# Data Science Operations: Filter, Order, Aggregate\n",
        "Some examples of real, useful data science operations: filtering, sorting, and aggregating data."
      ]
    },
    {
      "cell_type": "markdown",
      "id": "43af3fb4",
      "metadata": {
        "id": "43af3fb4"
      },
      "source": [
        "### Indexing\n",
        "Indexing uses many of the same idioms that normal Python code uses. You can use positive or negative indices to index from the front or back of the array. You can use a colon (:) to specify “the rest” or “all,” and you can even use two colons to skip elements as with regular Python lists.\n",
        "\n",
        "Here’s the difference: NumPy arrays use commas between axes, so you can index multiple axes in one set of square brackets. An example is the easiest way to show this off. It’s time to confirm Dürer’s magic square!\n",
        "\n",
        "The number square below has some amazing properties. If you add up any of the rows, columns, or diagonals, then you’ll get the same number, 34. That’s also what you’ll get if you add up each of the four quadrants, the center four squares, the four corner squares, or the four corner squares of any of the contained 3 × 3 grids. You’re going to prove it!"
      ]
    },
    {
      "cell_type": "code",
      "execution_count": null,
      "id": "b2a7b3b9",
      "metadata": {
        "id": "b2a7b3b9"
      },
      "outputs": [],
      "source": [
        "import numpy as np\n",
        "\n",
        "square = np.array([\n",
        "    [16, 3, 2, 13],\n",
        "    [5, 10, 11, 8],\n",
        "    [9, 6, 7, 12],\n",
        "    [4, 15, 14, 1]\n",
        "])\n",
        "\n",
        "for i in range(4):\n",
        "    assert square[:, i].sum() == 34\n",
        "    assert square[i, :].sum() == 34\n",
        "\n",
        "\n",
        "assert square[:2, :2].sum() == 34\n",
        "\n",
        "assert square[2:, :2].sum() == 34\n",
        "\n",
        "assert square[:2, 2:].sum() == 34\n",
        "\n",
        "assert square[2:, 2:].sum() == 34"
      ]
    },
    {
      "cell_type": "markdown",
      "id": "4eb5baae",
      "metadata": {
        "id": "4eb5baae"
      },
      "source": [
        "Inside the for loop, you verify that all the rows and all the columns add up to 34. After that, using selective indexing, you verify that each of the quadrants also adds up to 34.\n",
        "\n",
        "One last thing to note is that you’re able to take the sum of any array to add up all of its elements globally with square.sum(). This method can also take an axis argument to do an axis-wise summing instead."
      ]
    },
    {
      "cell_type": "markdown",
      "id": "d8d2ec3b",
      "metadata": {
        "id": "d8d2ec3b"
      },
      "source": [
        "### Masking and Filtering\n",
        "Index-based selection is great, but what if you want to filter your data based on more complicated nonuniform or nonsequential criteria? This is where the concept of a mask comes into play.\n",
        "\n",
        "A mask is an array that has the exact same shape as your data, but instead of your values, it holds Boolean values: either True or False. You can use this mask array to index into your data array in nonlinear and complex ways. It will return all of the elements where the Boolean array has a True value.\n",
        "\n",
        "Here’s an example showing the process, first in slow motion and then how it’s typically done, all in one line:"
      ]
    },
    {
      "cell_type": "code",
      "execution_count": null,
      "id": "269c73ca",
      "metadata": {
        "id": "269c73ca",
        "outputId": "5327eb7f-dae3-491f-be75-200aea618ec2"
      },
      "outputs": [
        {
          "data": {
            "text/plain": [
              "array([ 8, 12, 16, 20, 24, 28, 32, 36, 40, 44, 48])"
            ]
          },
          "execution_count": 9,
          "metadata": {},
          "output_type": "execute_result"
        }
      ],
      "source": [
        "import numpy as np\n",
        "\n",
        "numbers = np.linspace(5, 50, 24, dtype=int).reshape(4, -1)\n",
        "\n",
        "numbers\n",
        "mask = numbers % 4 == 0\n",
        "\n",
        "mask\n",
        "\n",
        "numbers[mask]\n",
        "\n",
        "by_four = numbers[numbers % 4 == 0]\n",
        "\n",
        "by_four"
      ]
    },
    {
      "cell_type": "markdown",
      "id": "79a16bfe",
      "metadata": {
        "id": "79a16bfe"
      },
      "source": [
        "np.linspace() generates n numbers evenly distributed between a minimum and a maximum, which is useful for evenly distributed sampling in scientific plotting."
      ]
    },
    {
      "cell_type": "markdown",
      "id": "a327835c",
      "metadata": {
        "id": "a327835c"
      },
      "source": [
        "### Transposing, Sorting, and Concatenating\n",
        "Other manipulations, while not quite as common as indexing or filtering, can also be very handy depending on the situation you’re in. You’ll see a few examples in this section.\n",
        "\n",
        "Here’s transposing an array:"
      ]
    },
    {
      "cell_type": "code",
      "execution_count": null,
      "id": "2fb3467c",
      "metadata": {
        "id": "2fb3467c",
        "outputId": "c725d519-ddde-468a-9de2-1d3e04ea6ff8"
      },
      "outputs": [
        {
          "data": {
            "text/plain": [
              "array([[1, 3, 5],\n",
              "       [2, 4, 6]])"
            ]
          },
          "execution_count": 10,
          "metadata": {},
          "output_type": "execute_result"
        }
      ],
      "source": [
        "import numpy as np\n",
        "\n",
        "a = np.array([\n",
        "    [1, 2],\n",
        "    [3, 4],\n",
        "    [5, 6],\n",
        "])\n",
        "\n",
        "a.T"
      ]
    },
    {
      "cell_type": "code",
      "execution_count": null,
      "id": "ed87e790",
      "metadata": {
        "id": "ed87e790",
        "outputId": "1c4f94ed-bb8b-497e-8f95-4868f7e0fd33"
      },
      "outputs": [
        {
          "data": {
            "text/plain": [
              "array([[1, 3, 5],\n",
              "       [2, 4, 6]])"
            ]
          },
          "execution_count": 11,
          "metadata": {},
          "output_type": "execute_result"
        }
      ],
      "source": [
        "a.transpose()"
      ]
    },
    {
      "cell_type": "code",
      "execution_count": null,
      "id": "b45cd7f8",
      "metadata": {
        "id": "b45cd7f8",
        "outputId": "16d0e6fa-4509-452e-8825-b0d3c066f03b"
      },
      "outputs": [
        {
          "data": {
            "text/plain": [
              "array([[1, 1, 3],\n",
              "       [7, 2, 4],\n",
              "       [8, 6, 5]])"
            ]
          },
          "execution_count": 12,
          "metadata": {},
          "output_type": "execute_result"
        }
      ],
      "source": [
        "import numpy as np\n",
        "\n",
        "data = np.array([\n",
        "    [7, 1, 4],\n",
        "    [8, 6, 5],\n",
        "    [1, 2, 3]\n",
        "])\n",
        "\n",
        "np.sort(data)\n",
        "np.sort(data, axis=None)\n",
        "np.sort(data, axis=0)"
      ]
    },
    {
      "cell_type": "markdown",
      "id": "e4a12358",
      "metadata": {
        "id": "e4a12358"
      },
      "source": [
        "Finally, here’s an example of concatenation. While there’s a np.concatenate() function, there are also a number of helper functions that are sometimes easier to read.\n",
        "\n",
        "Here are some examples:"
      ]
    },
    {
      "cell_type": "code",
      "execution_count": null,
      "id": "227d2d90",
      "metadata": {
        "id": "227d2d90",
        "outputId": "c91ee24f-3723-401a-843c-8b9a2a1815ea"
      },
      "outputs": [
        {
          "data": {
            "text/plain": [
              "array([4, 8, 6, 1, 3, 5, 7, 2])"
            ]
          },
          "execution_count": 13,
          "metadata": {},
          "output_type": "execute_result"
        }
      ],
      "source": [
        "import numpy as np\n",
        "\n",
        "a = np.array([\n",
        "    [4, 8],\n",
        "    [6, 1]\n",
        "])\n",
        "\n",
        "b = np.array([\n",
        "    [3, 5],\n",
        "    [7, 2],\n",
        "])\n",
        "\n",
        "np.hstack((a, b))\n",
        "\n",
        "\n",
        "\n",
        "\n",
        "np.vstack((b, a))\n",
        "\n",
        "\n",
        "\n",
        "\n",
        "\n",
        "\n",
        "np.concatenate((a, b))\n",
        "\n",
        "\n",
        "\n",
        "\n",
        "\n",
        "\n",
        "np.concatenate((a, b), axis=None)"
      ]
    },
    {
      "cell_type": "markdown",
      "id": "bad7b5ab",
      "metadata": {
        "id": "bad7b5ab"
      },
      "source": [
        "show the slightly more intuitive functions hstack() and vstack(). Inputs 6 and 7 show the more generic concatenate(), first without an axis argument and then with axis=None. This flattening behavior is similar in form to what you just saw with sort()."
      ]
    },
    {
      "cell_type": "markdown",
      "id": "0c18d159",
      "metadata": {
        "id": "0c18d159"
      },
      "source": [
        "### Aggregating\n",
        "Your last stop on this tour of functionality before diving into some more advanced topics and examples is aggregation. You’ve already seen quite a few aggregating methods, including .sum(), .max(), .mean(), and .std(). You can reference NumPy’s larger library of functions to see more. Many of the mathematical, financial, and statistical functions use aggregation to help you reduce the number of dimensions in your data."
      ]
    },
    {
      "cell_type": "markdown",
      "id": "fb4c01c6",
      "metadata": {
        "id": "fb4c01c6"
      },
      "source": [
        "## Getting Into Shape: Array Shapes and Axes\n",
        "There are a few concepts that are important to keep in mind, especially as you work with arrays in higher dimensions.\n",
        "\n",
        "Vectors, which are one-dimensional arrays of numbers, are the least complicated to keep track of. Two dimensions aren’t too bad, either, because they’re similar to spreadsheets. But things start to get tricky at three dimensions, and visualizing four? Forget about it.\n",
        "### 1. Mastering Shape\n",
        "Shape is a key concept when you’re using multidimensional arrays. At a certain point, it’s easier to forget about visualizing the shape of your data and to instead follow some mental rules and trust NumPy to tell you the correct shape.\n",
        "\n",
        "All arrays have a property called .shape that returns a tuple of the size in each dimension. It’s less important which dimension is which, but it’s critical that the arrays you pass to functions are in the shape that the functions expect. A common way to confirm that your data has the proper shape is to print the data and its shape until you’re sure everything is working like you expect."
      ]
    },
    {
      "cell_type": "code",
      "execution_count": null,
      "id": "edd3ccf3",
      "metadata": {
        "id": "edd3ccf3",
        "outputId": "04b709d0-5310-4c09-8109-26c5d4ec260a"
      },
      "outputs": [
        {
          "data": {
            "text/plain": [
              "array([[[29.3, 16.1],\n",
              "        [42.1, 38. ],\n",
              "        [18.8, 12.5]],\n",
              "\n",
              "       [[12.6, 31.3],\n",
              "        [49.9,  9.2],\n",
              "        [38.6, 22.2]]])"
            ]
          },
          "execution_count": 14,
          "metadata": {},
          "output_type": "execute_result"
        }
      ],
      "source": [
        "import numpy as np\n",
        "temperatures = np.array([\n",
        "    29.3, 42.1, 18.8, 16.1, 38.0, 12.5,\n",
        "    12.6, 49.9, 38.6, 31.3, 9.2, 22.2\n",
        "]).reshape(2, 2, 3)\n",
        "temperatures.shape\n",
        "temperatures\n",
        "np.swapaxes(temperatures, 1, 2)"
      ]
    },
    {
      "cell_type": "markdown",
      "id": "5f4409e2",
      "metadata": {
        "id": "5f4409e2"
      },
      "source": [
        "Here, you use a numpy.ndarray method called .reshape() to form a 2 × 2 × 3 block of data. When you check the shape of your array in input 3, it’s exactly what you told it to be. However, you can see how printed arrays quickly become hard to visualize in three or more dimensions. After you swap axes with .swapaxes(), it becomes little clearer which dimension is which"
      ]
    },
    {
      "cell_type": "markdown",
      "id": "ec7615bb",
      "metadata": {
        "id": "ec7615bb"
      },
      "source": [
        "### 2. Understanding Axes\n",
        "The example above shows how important it is to know not only what shape your data is in but also which data is in which axis. In NumPy arrays, axes are zero-indexed and identify which dimension is which. For example, a two-dimensional array has a vertical axis (axis 0) and a horizontal axis (axis 1). Lots of functions and commands in NumPy change their behavior based on which axis you tell them to process.\n",
        "\n",
        "This example will show how .max() behaves by default, with no axis argument, and how it changes functionality depending on which axis you specify when you do supply an argument:"
      ]
    },
    {
      "cell_type": "code",
      "execution_count": null,
      "id": "93c68607",
      "metadata": {
        "id": "93c68607",
        "outputId": "1be52d7c-1761-484d-9620-aee3f60ab04d"
      },
      "outputs": [
        {
          "data": {
            "text/plain": [
              "array([[5, 3, 7, 1],\n",
              "       [2, 6, 7, 9],\n",
              "       [1, 1, 1, 1],\n",
              "       [4, 3, 2, 0]])"
            ]
          },
          "execution_count": 15,
          "metadata": {},
          "output_type": "execute_result"
        }
      ],
      "source": [
        "import numpy as np\n",
        "\n",
        "table = np.array([\n",
        "    [5, 3, 7, 1],\n",
        "    [2, 6, 7 ,9],\n",
        "    [1, 1, 1, 1],\n",
        "    [4, 3, 2, 0],\n",
        "])\n",
        "table"
      ]
    },
    {
      "cell_type": "code",
      "execution_count": null,
      "id": "b98a18d8",
      "metadata": {
        "id": "b98a18d8",
        "outputId": "7841ad24-09d3-4fbe-bb1d-d0712a329984"
      },
      "outputs": [
        {
          "data": {
            "text/plain": [
              "9"
            ]
          },
          "execution_count": 16,
          "metadata": {},
          "output_type": "execute_result"
        }
      ],
      "source": [
        "table.max()"
      ]
    },
    {
      "cell_type": "code",
      "execution_count": null,
      "id": "95f0ec93",
      "metadata": {
        "id": "95f0ec93",
        "outputId": "87eba101-fa73-4a0b-e35b-73bdba029616"
      },
      "outputs": [
        {
          "data": {
            "text/plain": [
              "array([5, 6, 7, 9])"
            ]
          },
          "execution_count": 17,
          "metadata": {},
          "output_type": "execute_result"
        }
      ],
      "source": [
        "table.max(axis=0)"
      ]
    },
    {
      "cell_type": "code",
      "execution_count": null,
      "id": "71e4c363",
      "metadata": {
        "id": "71e4c363",
        "outputId": "ef621ab4-206c-4fbb-fbe5-3a1c87d27b47"
      },
      "outputs": [
        {
          "data": {
            "text/plain": [
              "array([7, 9, 1, 4])"
            ]
          },
          "execution_count": 18,
          "metadata": {},
          "output_type": "execute_result"
        }
      ],
      "source": [
        "table.max(axis=1)"
      ]
    },
    {
      "cell_type": "markdown",
      "id": "3a9e3387",
      "metadata": {
        "id": "3a9e3387"
      },
      "source": [
        "By default, .max() returns the largest value in the entire array, no matter how many dimensions there are. However, once you specify an axis, it performs that calculation for each set of values along that particular axis. For example, with an argument of axis=0, .max() selects the maximum value in each of the four vertical sets of values in table and returns an array that has been flattened, or aggregated into a one-dimensional array.\n",
        "\n",
        "In fact, many of NumPy’s functions behave this way: If no axis is specified, then they perform an operation on the entire dataset. Otherwise, they perform the operation in an axis-wise fashion."
      ]
    }
  ],
  "metadata": {
    "kernelspec": {
      "display_name": "Python 3",
      "language": "python",
      "name": "python3"
    },
    "language_info": {
      "codemirror_mode": {
        "name": "ipython",
        "version": 3
      },
      "file_extension": ".py",
      "mimetype": "text/x-python",
      "name": "python",
      "nbconvert_exporter": "python",
      "pygments_lexer": "ipython3",
      "version": "3.8.8"
    },
    "colab": {
      "provenance": [],
      "toc_visible": true,
      "include_colab_link": true
    }
  },
  "nbformat": 4,
  "nbformat_minor": 5
}