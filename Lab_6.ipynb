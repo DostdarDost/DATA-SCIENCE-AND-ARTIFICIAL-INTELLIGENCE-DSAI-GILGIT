{
  "nbformat": 4,
  "nbformat_minor": 0,
  "metadata": {
    "colab": {
      "provenance": [],
      "authorship_tag": "ABX9TyPx1ss3hmFCBkgdwH6fazId",
      "include_colab_link": true
    },
    "kernelspec": {
      "name": "python3",
      "display_name": "Python 3"
    },
    "language_info": {
      "name": "python"
    }
  },
  "cells": [
    {
      "cell_type": "markdown",
      "metadata": {
        "id": "view-in-github",
        "colab_type": "text"
      },
      "source": [
        "<a href=\"https://colab.research.google.com/github/DostdarDost/DATA-SCIENCE-AND-ARTIFICIAL-INTELLIGENCE-DSAI-GILGIT/blob/main/Lab_6.ipynb\" target=\"_parent\"><img src=\"https://colab.research.google.com/assets/colab-badge.svg\" alt=\"Open In Colab\"/></a>"
      ]
    },
    {
      "cell_type": "markdown",
      "source": [
        "# Task1 : Multplication"
      ],
      "metadata": {
        "id": "e2b6swYj5bnu"
      }
    },
    {
      "cell_type": "code",
      "source": [
        "\n",
        "\n",
        "# get input from the user\n",
        "num1 = float(input(\"Enter first number: \"))\n",
        "num2 = float(input(\"Enter second number: \"))\n",
        "\n",
        "# create a lambda function to multiply two numbers\n",
        "multiply = lambda x, y: x * y\n",
        "\n",
        "# call the lambda function and print the result\n",
        "result = multiply(num1, num2)\n",
        "print(\"The product of\", num1, \"and\", num2, \"is:\", result)\n"
      ],
      "metadata": {
        "id": "pz601-0m479t"
      },
      "execution_count": null,
      "outputs": []
    },
    {
      "cell_type": "markdown",
      "source": [
        "## Task 2: Convert Temperature"
      ],
      "metadata": {
        "id": "swZqo_IP4Z1U"
      }
    },
    {
      "cell_type": "code",
      "source": [
        "\n",
        "\n",
        "# Define a lambda function to convert Celsius to Fahrenheit\n",
        "celsius_to_fahrenheit = lambda celsius: (celsius * 9/5) + 32\n",
        "\n",
        "# Get temperature input from the user\n",
        "celsius_temp = float(input(\"Enter temperature in Celsius: \"))\n",
        "\n",
        "# Convert Celsius to Fahrenheit using the lambda function\n",
        "fahrenheit_temp = celsius_to_fahrenheit(celsius_temp)\n",
        "\n",
        "# Print the result\n",
        "print(f\"{celsius_temp} degrees Celsius is equal to {fahrenheit_temp} degrees Fahrenheit.\")\n"
      ],
      "metadata": {
        "colab": {
          "base_uri": "https://localhost:8080/",
          "height": 0
        },
        "id": "Hd5wu35r3hWU",
        "outputId": "11e50ed8-ec71-4960-cf16-8d837141c65a"
      },
      "execution_count": 3,
      "outputs": [
        {
          "output_type": "stream",
          "name": "stdout",
          "text": [
            "Enter temperature in Celsius: 1\n",
            "1.0 degrees Celsius is equal to 33.8 degrees Fahrenheit.\n"
          ]
        }
      ]
    },
    {
      "cell_type": "markdown",
      "source": [
        "### Reversing String"
      ],
      "metadata": {
        "id": "eWHpSiac6A5L"
      }
    },
    {
      "cell_type": "code",
      "source": [
        "# Get input string from the user\n",
        "string = input(\"Enter a string: \")\n",
        "\n",
        "# Define a lambda function to reverse the string\n",
        "reverse_string = lambda s: s[::-1]\n",
        "\n",
        "# Call the lambda function and print the reversed string\n",
        "reversed_string = reverse_string(string)\n",
        "print(\"Reversed string:\", reversed_string)\n"
      ],
      "metadata": {
        "colab": {
          "base_uri": "https://localhost:8080/",
          "height": 0
        },
        "id": "ZefRu8rI5wMP",
        "outputId": "8a24356c-eb9e-4371-e411-501d6a794f5d"
      },
      "execution_count": 4,
      "outputs": [
        {
          "output_type": "stream",
          "name": "stdout",
          "text": [
            "Enter a string: dostdar\n",
            "Reversed string: radtsod\n"
          ]
        }
      ]
    },
    {
      "cell_type": "markdown",
      "source": [
        "### Task4  Check Prime"
      ],
      "metadata": {
        "id": "WUn8ZgZi63y-"
      }
    },
    {
      "cell_type": "code",
      "source": [
        "\n",
        "# Get input number from the user\n",
        "num = int(input(\"Enter a number: \"))\n",
        "\n",
        "# Define a lambda function to check if a number is prime\n",
        "is_prime = lambda n: all([n % i for i in range(2, int(n**0.5) + 1)]) if n > 1 else False\n",
        "\n",
        "# Call the lambda function and print the result\n",
        "if is_prime(num):\n",
        "  print(num, \"is a prime number.\")\n",
        "else:\n",
        "  print(num, \"is not a prime number.\")\n"
      ],
      "metadata": {
        "id": "tYvWjh4v6gco"
      },
      "execution_count": null,
      "outputs": []
    },
    {
      "cell_type": "markdown",
      "source": [
        "### Task5 Check Even Or Odd"
      ],
      "metadata": {
        "id": "gaIap8Ct7EBU"
      }
    },
    {
      "cell_type": "code",
      "source": [
        "# Get input number from the user\n",
        "num = int(input(\"Enter a number: \"))\n",
        "\n",
        "# Define a lambda function to check if a number is even or odd\n",
        "is_even_odd = lambda n: \"Even\" if n % 2 == 0 else \"Odd\"\n",
        "\n",
        "# Call the lambda function and print the result\n",
        "result = is_even_odd(num)\n",
        "print(f\"{num} is {result}.\")\n"
      ],
      "metadata": {
        "id": "TSKQO2AG7Urb"
      },
      "execution_count": null,
      "outputs": []
    },
    {
      "cell_type": "markdown",
      "source": [
        "### Task6: Quradratic Equation"
      ],
      "metadata": {
        "id": "vsMqhGgw8COA"
      }
    },
    {
      "cell_type": "code",
      "execution_count": 1,
      "metadata": {
        "colab": {
          "base_uri": "https://localhost:8080/",
          "height": 0
        },
        "id": "xcp804vL3IRp",
        "outputId": "58c5e93b-da1d-48e5-b283-a1228076b2a3"
      },
      "outputs": [
        {
          "output_type": "stream",
          "name": "stdout",
          "text": [
            "[2.0, 1.0]\n"
          ]
        }
      ],
      "source": [
        "\n",
        "\n",
        "# Define a lambda function to solve the quadratic equation\n",
        "solve_quadratic = lambda a, b, c: a*x**2 + b*x + c\n",
        "\n",
        "# Example usage:\n",
        "a = 1\n",
        "b = -3\n",
        "c = 2\n",
        "solutions = solve_quadratic(a, b, c)\n",
        "print(solutions)  # Output: [2.0, 1.0]\n"
      ]
    },
    {
      "cell_type": "markdown",
      "source": [
        "### Task7: Finding Distance"
      ],
      "metadata": {
        "id": "_EysZ6QS8e3a"
      }
    },
    {
      "cell_type": "code",
      "source": [
        "# Define a lambda function to calculate the distance between two points\n",
        "distance = lambda x1, y1, x2, y2: ((x2 - x1)**2 + (y2 - y1)**2)**0.5\n",
        "\n",
        "# Example usage:\n",
        "point1 = (1, 2)\n",
        "point2 = (4, 6)\n",
        "dist = distance(point1[0], point1[1], point2[0], point2[1])\n",
        "print(f\"The distance between {point1} and {point2} is {dist}\")\n"
      ],
      "metadata": {
        "colab": {
          "base_uri": "https://localhost:8080/",
          "height": 0
        },
        "id": "ofNYShWl717-",
        "outputId": "ae5f515a-4b91-4461-c5c7-a19250e9d185"
      },
      "execution_count": 5,
      "outputs": [
        {
          "output_type": "stream",
          "name": "stdout",
          "text": [
            "The distance between (1, 2) and (4, 6) is 5.0\n"
          ]
        }
      ]
    }
  ]
}