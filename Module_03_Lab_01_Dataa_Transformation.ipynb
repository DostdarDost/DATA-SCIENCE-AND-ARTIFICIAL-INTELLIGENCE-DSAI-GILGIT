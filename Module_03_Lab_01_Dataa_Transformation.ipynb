{
  "cells": [
    {
      "cell_type": "markdown",
      "metadata": {
        "id": "view-in-github",
        "colab_type": "text"
      },
      "source": [
        "<a href=\"https://colab.research.google.com/github/DostdarDost/DATA-SCIENCE-AND-ARTIFICIAL-INTELLIGENCE-DSAI-GILGIT/blob/main/Module_03_Lab_01_Dataa_Transformation.ipynb\" target=\"_parent\"><img src=\"https://colab.research.google.com/assets/colab-badge.svg\" alt=\"Open In Colab\"/></a>"
      ]
    },
    {
      "cell_type": "markdown",
      "id": "b64a1e0d",
      "metadata": {
        "id": "b64a1e0d"
      },
      "source": [
        "## 1. Removing Duplicates  \n",
        "\n",
        "Duplicate rows may be found in a DataFrame for any number of reasons. Here is an example:"
      ]
    },
    {
      "cell_type": "code",
      "execution_count": null,
      "id": "c430f1ae",
      "metadata": {
        "id": "c430f1ae"
      },
      "outputs": [],
      "source": [
        "#  Library\n",
        "import pandas as pd"
      ]
    },
    {
      "cell_type": "code",
      "execution_count": null,
      "id": "4f01ba5c",
      "metadata": {
        "id": "4f01ba5c"
      },
      "outputs": [],
      "source": [
        "#data\n",
        "data = pd.DataFrame({'k1': ['one', 'two'] * 3 + ['two'],\n",
        "                     'k2': [1, 1, 2, 3, 3, 4, 4]})\n"
      ]
    },
    {
      "cell_type": "code",
      "execution_count": null,
      "id": "152e6fe1",
      "metadata": {
        "id": "152e6fe1",
        "outputId": "c1110ec0-973a-4c57-a843-a4e0b20b313b"
      },
      "outputs": [
        {
          "data": {
            "text/html": [
              "<div>\n",
              "<style scoped>\n",
              "    .dataframe tbody tr th:only-of-type {\n",
              "        vertical-align: middle;\n",
              "    }\n",
              "\n",
              "    .dataframe tbody tr th {\n",
              "        vertical-align: top;\n",
              "    }\n",
              "\n",
              "    .dataframe thead th {\n",
              "        text-align: right;\n",
              "    }\n",
              "</style>\n",
              "<table border=\"1\" class=\"dataframe\">\n",
              "  <thead>\n",
              "    <tr style=\"text-align: right;\">\n",
              "      <th></th>\n",
              "      <th>k1</th>\n",
              "      <th>k2</th>\n",
              "    </tr>\n",
              "  </thead>\n",
              "  <tbody>\n",
              "    <tr>\n",
              "      <th>0</th>\n",
              "      <td>one</td>\n",
              "      <td>1</td>\n",
              "    </tr>\n",
              "    <tr>\n",
              "      <th>1</th>\n",
              "      <td>two</td>\n",
              "      <td>1</td>\n",
              "    </tr>\n",
              "    <tr>\n",
              "      <th>2</th>\n",
              "      <td>one</td>\n",
              "      <td>2</td>\n",
              "    </tr>\n",
              "    <tr>\n",
              "      <th>3</th>\n",
              "      <td>two</td>\n",
              "      <td>3</td>\n",
              "    </tr>\n",
              "    <tr>\n",
              "      <th>4</th>\n",
              "      <td>one</td>\n",
              "      <td>3</td>\n",
              "    </tr>\n",
              "    <tr>\n",
              "      <th>5</th>\n",
              "      <td>two</td>\n",
              "      <td>4</td>\n",
              "    </tr>\n",
              "    <tr>\n",
              "      <th>6</th>\n",
              "      <td>two</td>\n",
              "      <td>4</td>\n",
              "    </tr>\n",
              "  </tbody>\n",
              "</table>\n",
              "</div>"
            ],
            "text/plain": [
              "    k1  k2\n",
              "0  one   1\n",
              "1  two   1\n",
              "2  one   2\n",
              "3  two   3\n",
              "4  one   3\n",
              "5  two   4\n",
              "6  two   4"
            ]
          },
          "execution_count": 4,
          "metadata": {},
          "output_type": "execute_result"
        }
      ],
      "source": [
        "# display dataset\n",
        "data"
      ]
    },
    {
      "cell_type": "code",
      "execution_count": null,
      "id": "431b99b2",
      "metadata": {
        "id": "431b99b2",
        "outputId": "166734d9-1b12-4ec9-efef-fc497fd8dfd7"
      },
      "outputs": [
        {
          "data": {
            "text/plain": [
              "(7, 2)"
            ]
          },
          "execution_count": 6,
          "metadata": {},
          "output_type": "execute_result"
        }
      ],
      "source": [
        "# shape of data\n",
        "data.shape"
      ]
    },
    {
      "cell_type": "markdown",
      "id": "af75e721",
      "metadata": {
        "id": "af75e721"
      },
      "source": [
        "The DataFrame method duplicated returns a boolean Series indicating whether each row is a duplicate (has been observed in a previous row) or not:\n"
      ]
    },
    {
      "cell_type": "code",
      "execution_count": null,
      "id": "d827e0c8",
      "metadata": {
        "id": "d827e0c8",
        "outputId": "9af85c2c-c561-42db-c1fa-2e9bc33f1dc0"
      },
      "outputs": [
        {
          "data": {
            "text/plain": [
              "0    False\n",
              "1    False\n",
              "2    False\n",
              "3    False\n",
              "4    False\n",
              "5    False\n",
              "6     True\n",
              "dtype: bool"
            ]
          },
          "execution_count": 7,
          "metadata": {},
          "output_type": "execute_result"
        }
      ],
      "source": [
        "data.duplicated()"
      ]
    },
    {
      "cell_type": "code",
      "execution_count": null,
      "id": "f68330d2",
      "metadata": {
        "id": "f68330d2",
        "outputId": "24a8c8f4-4962-4fed-acb5-90b3660433c8"
      },
      "outputs": [
        {
          "data": {
            "text/html": [
              "<div>\n",
              "<style scoped>\n",
              "    .dataframe tbody tr th:only-of-type {\n",
              "        vertical-align: middle;\n",
              "    }\n",
              "\n",
              "    .dataframe tbody tr th {\n",
              "        vertical-align: top;\n",
              "    }\n",
              "\n",
              "    .dataframe thead th {\n",
              "        text-align: right;\n",
              "    }\n",
              "</style>\n",
              "<table border=\"1\" class=\"dataframe\">\n",
              "  <thead>\n",
              "    <tr style=\"text-align: right;\">\n",
              "      <th></th>\n",
              "      <th>k1</th>\n",
              "      <th>k2</th>\n",
              "    </tr>\n",
              "  </thead>\n",
              "  <tbody>\n",
              "    <tr>\n",
              "      <th>0</th>\n",
              "      <td>one</td>\n",
              "      <td>1</td>\n",
              "    </tr>\n",
              "    <tr>\n",
              "      <th>1</th>\n",
              "      <td>two</td>\n",
              "      <td>1</td>\n",
              "    </tr>\n",
              "    <tr>\n",
              "      <th>2</th>\n",
              "      <td>one</td>\n",
              "      <td>2</td>\n",
              "    </tr>\n",
              "    <tr>\n",
              "      <th>3</th>\n",
              "      <td>two</td>\n",
              "      <td>3</td>\n",
              "    </tr>\n",
              "    <tr>\n",
              "      <th>4</th>\n",
              "      <td>one</td>\n",
              "      <td>3</td>\n",
              "    </tr>\n",
              "    <tr>\n",
              "      <th>5</th>\n",
              "      <td>two</td>\n",
              "      <td>4</td>\n",
              "    </tr>\n",
              "  </tbody>\n",
              "</table>\n",
              "</div>"
            ],
            "text/plain": [
              "    k1  k2\n",
              "0  one   1\n",
              "1  two   1\n",
              "2  one   2\n",
              "3  two   3\n",
              "4  one   3\n",
              "5  two   4"
            ]
          },
          "execution_count": 8,
          "metadata": {},
          "output_type": "execute_result"
        }
      ],
      "source": [
        "# remove this duplicates\n",
        "data.drop_duplicates()"
      ]
    },
    {
      "cell_type": "markdown",
      "id": "6f5de078",
      "metadata": {
        "id": "6f5de078"
      },
      "source": [
        "Both of these methods by default consider all of the columns; alternatively, you can specify any subset of them to detect duplicates. Suppose we had an additional column of values and wanted to filter duplicates only based on the 'k1' column"
      ]
    },
    {
      "cell_type": "code",
      "execution_count": null,
      "id": "603ce0ff",
      "metadata": {
        "id": "603ce0ff",
        "outputId": "e9ffe2e3-fae1-41b1-c61d-bf675e22a4c9"
      },
      "outputs": [
        {
          "data": {
            "text/html": [
              "<div>\n",
              "<style scoped>\n",
              "    .dataframe tbody tr th:only-of-type {\n",
              "        vertical-align: middle;\n",
              "    }\n",
              "\n",
              "    .dataframe tbody tr th {\n",
              "        vertical-align: top;\n",
              "    }\n",
              "\n",
              "    .dataframe thead th {\n",
              "        text-align: right;\n",
              "    }\n",
              "</style>\n",
              "<table border=\"1\" class=\"dataframe\">\n",
              "  <thead>\n",
              "    <tr style=\"text-align: right;\">\n",
              "      <th></th>\n",
              "      <th>k1</th>\n",
              "      <th>k2</th>\n",
              "      <th>v1</th>\n",
              "    </tr>\n",
              "  </thead>\n",
              "  <tbody>\n",
              "    <tr>\n",
              "      <th>0</th>\n",
              "      <td>one</td>\n",
              "      <td>1</td>\n",
              "      <td>0</td>\n",
              "    </tr>\n",
              "    <tr>\n",
              "      <th>1</th>\n",
              "      <td>two</td>\n",
              "      <td>1</td>\n",
              "      <td>1</td>\n",
              "    </tr>\n",
              "    <tr>\n",
              "      <th>2</th>\n",
              "      <td>one</td>\n",
              "      <td>2</td>\n",
              "      <td>2</td>\n",
              "    </tr>\n",
              "    <tr>\n",
              "      <th>3</th>\n",
              "      <td>two</td>\n",
              "      <td>3</td>\n",
              "      <td>3</td>\n",
              "    </tr>\n",
              "    <tr>\n",
              "      <th>4</th>\n",
              "      <td>one</td>\n",
              "      <td>3</td>\n",
              "      <td>4</td>\n",
              "    </tr>\n",
              "    <tr>\n",
              "      <th>5</th>\n",
              "      <td>two</td>\n",
              "      <td>4</td>\n",
              "      <td>5</td>\n",
              "    </tr>\n",
              "    <tr>\n",
              "      <th>6</th>\n",
              "      <td>two</td>\n",
              "      <td>4</td>\n",
              "      <td>6</td>\n",
              "    </tr>\n",
              "  </tbody>\n",
              "</table>\n",
              "</div>"
            ],
            "text/plain": [
              "    k1  k2  v1\n",
              "0  one   1   0\n",
              "1  two   1   1\n",
              "2  one   2   2\n",
              "3  two   3   3\n",
              "4  one   3   4\n",
              "5  two   4   5\n",
              "6  two   4   6"
            ]
          },
          "execution_count": 11,
          "metadata": {},
          "output_type": "execute_result"
        }
      ],
      "source": [
        "data['v1'] = range(7)\n",
        "data"
      ]
    },
    {
      "cell_type": "code",
      "execution_count": null,
      "id": "837ccf9a",
      "metadata": {
        "id": "837ccf9a",
        "outputId": "7bcef2d7-af67-49d7-aa92-8d78a36af057"
      },
      "outputs": [
        {
          "data": {
            "text/html": [
              "<div>\n",
              "<style scoped>\n",
              "    .dataframe tbody tr th:only-of-type {\n",
              "        vertical-align: middle;\n",
              "    }\n",
              "\n",
              "    .dataframe tbody tr th {\n",
              "        vertical-align: top;\n",
              "    }\n",
              "\n",
              "    .dataframe thead th {\n",
              "        text-align: right;\n",
              "    }\n",
              "</style>\n",
              "<table border=\"1\" class=\"dataframe\">\n",
              "  <thead>\n",
              "    <tr style=\"text-align: right;\">\n",
              "      <th></th>\n",
              "      <th>k1</th>\n",
              "      <th>k2</th>\n",
              "      <th>v1</th>\n",
              "    </tr>\n",
              "  </thead>\n",
              "  <tbody>\n",
              "    <tr>\n",
              "      <th>0</th>\n",
              "      <td>one</td>\n",
              "      <td>1</td>\n",
              "      <td>0</td>\n",
              "    </tr>\n",
              "    <tr>\n",
              "      <th>1</th>\n",
              "      <td>two</td>\n",
              "      <td>1</td>\n",
              "      <td>1</td>\n",
              "    </tr>\n",
              "  </tbody>\n",
              "</table>\n",
              "</div>"
            ],
            "text/plain": [
              "    k1  k2  v1\n",
              "0  one   1   0\n",
              "1  two   1   1"
            ]
          },
          "execution_count": 12,
          "metadata": {},
          "output_type": "execute_result"
        }
      ],
      "source": [
        "data.drop_duplicates(['k1'])"
      ]
    },
    {
      "cell_type": "markdown",
      "id": "c1aeec2e",
      "metadata": {
        "id": "c1aeec2e"
      },
      "source": [
        "duplicated and drop_duplicates by default keep the first observed value combination. Passing keep='last' will return the last one:"
      ]
    },
    {
      "cell_type": "code",
      "execution_count": null,
      "id": "4d65a6bd",
      "metadata": {
        "id": "4d65a6bd",
        "outputId": "b73d74bc-3638-4226-f76d-69e9cd0cfb6a"
      },
      "outputs": [
        {
          "data": {
            "text/html": [
              "<div>\n",
              "<style scoped>\n",
              "    .dataframe tbody tr th:only-of-type {\n",
              "        vertical-align: middle;\n",
              "    }\n",
              "\n",
              "    .dataframe tbody tr th {\n",
              "        vertical-align: top;\n",
              "    }\n",
              "\n",
              "    .dataframe thead th {\n",
              "        text-align: right;\n",
              "    }\n",
              "</style>\n",
              "<table border=\"1\" class=\"dataframe\">\n",
              "  <thead>\n",
              "    <tr style=\"text-align: right;\">\n",
              "      <th></th>\n",
              "      <th>k1</th>\n",
              "      <th>k2</th>\n",
              "      <th>v1</th>\n",
              "    </tr>\n",
              "  </thead>\n",
              "  <tbody>\n",
              "    <tr>\n",
              "      <th>0</th>\n",
              "      <td>one</td>\n",
              "      <td>1</td>\n",
              "      <td>0</td>\n",
              "    </tr>\n",
              "    <tr>\n",
              "      <th>1</th>\n",
              "      <td>two</td>\n",
              "      <td>1</td>\n",
              "      <td>1</td>\n",
              "    </tr>\n",
              "    <tr>\n",
              "      <th>2</th>\n",
              "      <td>one</td>\n",
              "      <td>2</td>\n",
              "      <td>2</td>\n",
              "    </tr>\n",
              "    <tr>\n",
              "      <th>3</th>\n",
              "      <td>two</td>\n",
              "      <td>3</td>\n",
              "      <td>3</td>\n",
              "    </tr>\n",
              "    <tr>\n",
              "      <th>4</th>\n",
              "      <td>one</td>\n",
              "      <td>3</td>\n",
              "      <td>4</td>\n",
              "    </tr>\n",
              "    <tr>\n",
              "      <th>6</th>\n",
              "      <td>two</td>\n",
              "      <td>4</td>\n",
              "      <td>6</td>\n",
              "    </tr>\n",
              "  </tbody>\n",
              "</table>\n",
              "</div>"
            ],
            "text/plain": [
              "    k1  k2  v1\n",
              "0  one   1   0\n",
              "1  two   1   1\n",
              "2  one   2   2\n",
              "3  two   3   3\n",
              "4  one   3   4\n",
              "6  two   4   6"
            ]
          },
          "execution_count": 13,
          "metadata": {},
          "output_type": "execute_result"
        }
      ],
      "source": [
        "data.drop_duplicates(['k1', 'k2'], keep='last')"
      ]
    },
    {
      "cell_type": "markdown",
      "id": "4454dee2",
      "metadata": {
        "id": "4454dee2"
      },
      "source": [
        "## 2. Transforming Data Using a Function or Mapping\n",
        "To perform some transformation based on the values in an array, Series, or column in a DataFrame. Consider the following hypothetical data collected about various kinds of meat:\n"
      ]
    },
    {
      "cell_type": "code",
      "execution_count": null,
      "id": "1e739493",
      "metadata": {
        "id": "1e739493"
      },
      "outputs": [],
      "source": [
        "data = pd.DataFrame({'food': ['bacon', 'pulled pork', 'bacon',\n",
        "                              'Pastrami', 'corned beef', 'Bacon',\n",
        "                              'pastrami', 'honey ham', 'nova lox'],\n",
        "                     'ounces': [4, 3, 12, 6, 7.5, 8, 3, 5, 6]})"
      ]
    },
    {
      "cell_type": "code",
      "execution_count": null,
      "id": "7e785164",
      "metadata": {
        "id": "7e785164",
        "outputId": "42347a6f-8987-4fe7-d965-40e2ff3d1596"
      },
      "outputs": [
        {
          "data": {
            "text/html": [
              "<div>\n",
              "<style scoped>\n",
              "    .dataframe tbody tr th:only-of-type {\n",
              "        vertical-align: middle;\n",
              "    }\n",
              "\n",
              "    .dataframe tbody tr th {\n",
              "        vertical-align: top;\n",
              "    }\n",
              "\n",
              "    .dataframe thead th {\n",
              "        text-align: right;\n",
              "    }\n",
              "</style>\n",
              "<table border=\"1\" class=\"dataframe\">\n",
              "  <thead>\n",
              "    <tr style=\"text-align: right;\">\n",
              "      <th></th>\n",
              "      <th>food</th>\n",
              "      <th>ounces</th>\n",
              "    </tr>\n",
              "  </thead>\n",
              "  <tbody>\n",
              "    <tr>\n",
              "      <th>0</th>\n",
              "      <td>bacon</td>\n",
              "      <td>4.0</td>\n",
              "    </tr>\n",
              "    <tr>\n",
              "      <th>1</th>\n",
              "      <td>pulled pork</td>\n",
              "      <td>3.0</td>\n",
              "    </tr>\n",
              "    <tr>\n",
              "      <th>2</th>\n",
              "      <td>bacon</td>\n",
              "      <td>12.0</td>\n",
              "    </tr>\n",
              "    <tr>\n",
              "      <th>3</th>\n",
              "      <td>Pastrami</td>\n",
              "      <td>6.0</td>\n",
              "    </tr>\n",
              "    <tr>\n",
              "      <th>4</th>\n",
              "      <td>corned beef</td>\n",
              "      <td>7.5</td>\n",
              "    </tr>\n",
              "    <tr>\n",
              "      <th>5</th>\n",
              "      <td>Bacon</td>\n",
              "      <td>8.0</td>\n",
              "    </tr>\n",
              "    <tr>\n",
              "      <th>6</th>\n",
              "      <td>pastrami</td>\n",
              "      <td>3.0</td>\n",
              "    </tr>\n",
              "    <tr>\n",
              "      <th>7</th>\n",
              "      <td>honey ham</td>\n",
              "      <td>5.0</td>\n",
              "    </tr>\n",
              "    <tr>\n",
              "      <th>8</th>\n",
              "      <td>nova lox</td>\n",
              "      <td>6.0</td>\n",
              "    </tr>\n",
              "  </tbody>\n",
              "</table>\n",
              "</div>"
            ],
            "text/plain": [
              "          food  ounces\n",
              "0        bacon     4.0\n",
              "1  pulled pork     3.0\n",
              "2        bacon    12.0\n",
              "3     Pastrami     6.0\n",
              "4  corned beef     7.5\n",
              "5        Bacon     8.0\n",
              "6     pastrami     3.0\n",
              "7    honey ham     5.0\n",
              "8     nova lox     6.0"
            ]
          },
          "execution_count": 15,
          "metadata": {},
          "output_type": "execute_result"
        }
      ],
      "source": [
        "data"
      ]
    },
    {
      "cell_type": "markdown",
      "id": "e1c62981",
      "metadata": {
        "id": "e1c62981"
      },
      "source": [
        "Suppose you wanted to add a column indicating the type of animal that each food came from. Let’s write down a mapping of each distinct meat type to the kind of animal:"
      ]
    },
    {
      "cell_type": "code",
      "execution_count": null,
      "id": "3a7fe896",
      "metadata": {
        "id": "3a7fe896"
      },
      "outputs": [],
      "source": [
        "meat_to_animal = {  'bacon': 'pig',\n",
        "                  'pulled pork': 'pig',\n",
        "                  'pastrami': 'cow',\n",
        "                  'corned beef': 'cow',\n",
        "                  'honey ham': 'pig',\n",
        "                  'nova lox': 'salmon' }"
      ]
    },
    {
      "cell_type": "markdown",
      "id": "e94fbfde",
      "metadata": {
        "id": "e94fbfde"
      },
      "source": [
        "The map method on a Series accepts a function or dict-like object containing a mapping, but here we have a small problem in that some of the meats are capitalized and others are not. Thus, we need to convert each value to lowercase using the str.lower Series method:"
      ]
    },
    {
      "cell_type": "code",
      "execution_count": null,
      "id": "36296c39",
      "metadata": {
        "id": "36296c39"
      },
      "outputs": [],
      "source": [
        "lowercased = data['food'].str.lower()"
      ]
    },
    {
      "cell_type": "code",
      "execution_count": null,
      "id": "fd021e24",
      "metadata": {
        "id": "fd021e24",
        "outputId": "13fd4e7c-d5fb-4e1d-dba3-4e35a1783d8b"
      },
      "outputs": [
        {
          "data": {
            "text/plain": [
              "0          bacon\n",
              "1    pulled pork\n",
              "2          bacon\n",
              "3       pastrami\n",
              "4    corned beef\n",
              "5          bacon\n",
              "6       pastrami\n",
              "7      honey ham\n",
              "8       nova lox\n",
              "Name: food, dtype: object"
            ]
          },
          "execution_count": 20,
          "metadata": {},
          "output_type": "execute_result"
        }
      ],
      "source": [
        " lowercased"
      ]
    },
    {
      "cell_type": "code",
      "execution_count": null,
      "id": "65e889c9",
      "metadata": {
        "id": "65e889c9"
      },
      "outputs": [],
      "source": [
        " data['animal'] = lowercased.map(meat_to_animal)"
      ]
    },
    {
      "cell_type": "code",
      "execution_count": null,
      "id": "2e3a202d",
      "metadata": {
        "id": "2e3a202d",
        "outputId": "01f7a672-f7e5-4023-f875-ac725003de1c"
      },
      "outputs": [
        {
          "data": {
            "text/html": [
              "<div>\n",
              "<style scoped>\n",
              "    .dataframe tbody tr th:only-of-type {\n",
              "        vertical-align: middle;\n",
              "    }\n",
              "\n",
              "    .dataframe tbody tr th {\n",
              "        vertical-align: top;\n",
              "    }\n",
              "\n",
              "    .dataframe thead th {\n",
              "        text-align: right;\n",
              "    }\n",
              "</style>\n",
              "<table border=\"1\" class=\"dataframe\">\n",
              "  <thead>\n",
              "    <tr style=\"text-align: right;\">\n",
              "      <th></th>\n",
              "      <th>food</th>\n",
              "      <th>ounces</th>\n",
              "      <th>animal</th>\n",
              "    </tr>\n",
              "  </thead>\n",
              "  <tbody>\n",
              "    <tr>\n",
              "      <th>0</th>\n",
              "      <td>bacon</td>\n",
              "      <td>4.0</td>\n",
              "      <td>pig</td>\n",
              "    </tr>\n",
              "    <tr>\n",
              "      <th>1</th>\n",
              "      <td>pulled pork</td>\n",
              "      <td>3.0</td>\n",
              "      <td>pig</td>\n",
              "    </tr>\n",
              "    <tr>\n",
              "      <th>2</th>\n",
              "      <td>bacon</td>\n",
              "      <td>12.0</td>\n",
              "      <td>pig</td>\n",
              "    </tr>\n",
              "    <tr>\n",
              "      <th>3</th>\n",
              "      <td>Pastrami</td>\n",
              "      <td>6.0</td>\n",
              "      <td>cow</td>\n",
              "    </tr>\n",
              "    <tr>\n",
              "      <th>4</th>\n",
              "      <td>corned beef</td>\n",
              "      <td>7.5</td>\n",
              "      <td>cow</td>\n",
              "    </tr>\n",
              "    <tr>\n",
              "      <th>5</th>\n",
              "      <td>Bacon</td>\n",
              "      <td>8.0</td>\n",
              "      <td>pig</td>\n",
              "    </tr>\n",
              "    <tr>\n",
              "      <th>6</th>\n",
              "      <td>pastrami</td>\n",
              "      <td>3.0</td>\n",
              "      <td>cow</td>\n",
              "    </tr>\n",
              "    <tr>\n",
              "      <th>7</th>\n",
              "      <td>honey ham</td>\n",
              "      <td>5.0</td>\n",
              "      <td>pig</td>\n",
              "    </tr>\n",
              "    <tr>\n",
              "      <th>8</th>\n",
              "      <td>nova lox</td>\n",
              "      <td>6.0</td>\n",
              "      <td>salmon</td>\n",
              "    </tr>\n",
              "  </tbody>\n",
              "</table>\n",
              "</div>"
            ],
            "text/plain": [
              "          food  ounces  animal\n",
              "0        bacon     4.0     pig\n",
              "1  pulled pork     3.0     pig\n",
              "2        bacon    12.0     pig\n",
              "3     Pastrami     6.0     cow\n",
              "4  corned beef     7.5     cow\n",
              "5        Bacon     8.0     pig\n",
              "6     pastrami     3.0     cow\n",
              "7    honey ham     5.0     pig\n",
              "8     nova lox     6.0  salmon"
            ]
          },
          "execution_count": 22,
          "metadata": {},
          "output_type": "execute_result"
        }
      ],
      "source": [
        "data"
      ]
    },
    {
      "cell_type": "code",
      "execution_count": null,
      "id": "c29d693f",
      "metadata": {
        "id": "c29d693f",
        "outputId": "8f2cb73f-8acc-4387-855e-0dd4b4b016fb"
      },
      "outputs": [
        {
          "data": {
            "text/plain": [
              "0       pig\n",
              "1       pig\n",
              "2       pig\n",
              "3       cow\n",
              "4       cow\n",
              "5       pig\n",
              "6       cow\n",
              "7       pig\n",
              "8    salmon\n",
              "Name: food, dtype: object"
            ]
          },
          "execution_count": 23,
          "metadata": {},
          "output_type": "execute_result"
        }
      ],
      "source": [
        "#We could also have passed a function that does all the work:\n",
        "data['food'].map(lambda x: meat_to_animal[x.lower()])"
      ]
    },
    {
      "cell_type": "markdown",
      "id": "43672ef4",
      "metadata": {
        "id": "43672ef4"
      },
      "source": [
        "## 3. Renaming Axis Indexes\n",
        "Like values in a Series, axis labels can be similarly transformed by a function or mapping of some form to produce new, differently labeled objects. You can also modify the axes in-place without creating a new data structure. Here’s a simple example:"
      ]
    },
    {
      "cell_type": "code",
      "execution_count": null,
      "id": "3c56a14a",
      "metadata": {
        "id": "3c56a14a"
      },
      "outputs": [],
      "source": [
        "import numpy as np"
      ]
    },
    {
      "cell_type": "code",
      "execution_count": null,
      "id": "ebf9b68a",
      "metadata": {
        "id": "ebf9b68a"
      },
      "outputs": [],
      "source": [
        " data = pd.DataFrame(np.arange(12).reshape((3, 4)),\n",
        "                     index=['Ohio', 'Colorado', 'New York'],\n",
        "                     columns=['one', 'two', 'three', 'four'])"
      ]
    },
    {
      "cell_type": "code",
      "execution_count": null,
      "id": "68bb647b",
      "metadata": {
        "id": "68bb647b",
        "outputId": "294f3150-2110-4af7-f3d3-e415f545b8d5"
      },
      "outputs": [
        {
          "data": {
            "text/html": [
              "<div>\n",
              "<style scoped>\n",
              "    .dataframe tbody tr th:only-of-type {\n",
              "        vertical-align: middle;\n",
              "    }\n",
              "\n",
              "    .dataframe tbody tr th {\n",
              "        vertical-align: top;\n",
              "    }\n",
              "\n",
              "    .dataframe thead th {\n",
              "        text-align: right;\n",
              "    }\n",
              "</style>\n",
              "<table border=\"1\" class=\"dataframe\">\n",
              "  <thead>\n",
              "    <tr style=\"text-align: right;\">\n",
              "      <th></th>\n",
              "      <th>one</th>\n",
              "      <th>two</th>\n",
              "      <th>three</th>\n",
              "      <th>four</th>\n",
              "    </tr>\n",
              "  </thead>\n",
              "  <tbody>\n",
              "    <tr>\n",
              "      <th>Ohio</th>\n",
              "      <td>0</td>\n",
              "      <td>1</td>\n",
              "      <td>2</td>\n",
              "      <td>3</td>\n",
              "    </tr>\n",
              "    <tr>\n",
              "      <th>Colorado</th>\n",
              "      <td>4</td>\n",
              "      <td>5</td>\n",
              "      <td>6</td>\n",
              "      <td>7</td>\n",
              "    </tr>\n",
              "    <tr>\n",
              "      <th>New York</th>\n",
              "      <td>8</td>\n",
              "      <td>9</td>\n",
              "      <td>10</td>\n",
              "      <td>11</td>\n",
              "    </tr>\n",
              "  </tbody>\n",
              "</table>\n",
              "</div>"
            ],
            "text/plain": [
              "          one  two  three  four\n",
              "Ohio        0    1      2     3\n",
              "Colorado    4    5      6     7\n",
              "New York    8    9     10    11"
            ]
          },
          "execution_count": 27,
          "metadata": {},
          "output_type": "execute_result"
        }
      ],
      "source": [
        "data"
      ]
    },
    {
      "cell_type": "code",
      "execution_count": null,
      "id": "372044a3",
      "metadata": {
        "id": "372044a3"
      },
      "outputs": [],
      "source": [
        "#Like a Series, the axis indexes have a map method:\n",
        "transform = lambda x: x[:4].upper()"
      ]
    },
    {
      "cell_type": "code",
      "execution_count": null,
      "id": "d5f2110e",
      "metadata": {
        "id": "d5f2110e",
        "outputId": "83f0d7cb-950f-4944-db3f-52e6fbf2a2d6"
      },
      "outputs": [
        {
          "data": {
            "text/plain": [
              "Index(['OHIO', 'COLO', 'NEW '], dtype='object')"
            ]
          },
          "execution_count": 30,
          "metadata": {},
          "output_type": "execute_result"
        }
      ],
      "source": [
        "data.index.map(transform)"
      ]
    },
    {
      "cell_type": "code",
      "execution_count": null,
      "id": "28e7f1aa",
      "metadata": {
        "id": "28e7f1aa"
      },
      "outputs": [],
      "source": [
        "data.index = data.index.map(transform)"
      ]
    },
    {
      "cell_type": "code",
      "execution_count": null,
      "id": "7f5642e3",
      "metadata": {
        "id": "7f5642e3",
        "outputId": "d015c5be-bce6-4db1-95aa-57d8993fcecf"
      },
      "outputs": [
        {
          "data": {
            "text/html": [
              "<div>\n",
              "<style scoped>\n",
              "    .dataframe tbody tr th:only-of-type {\n",
              "        vertical-align: middle;\n",
              "    }\n",
              "\n",
              "    .dataframe tbody tr th {\n",
              "        vertical-align: top;\n",
              "    }\n",
              "\n",
              "    .dataframe thead th {\n",
              "        text-align: right;\n",
              "    }\n",
              "</style>\n",
              "<table border=\"1\" class=\"dataframe\">\n",
              "  <thead>\n",
              "    <tr style=\"text-align: right;\">\n",
              "      <th></th>\n",
              "      <th>one</th>\n",
              "      <th>two</th>\n",
              "      <th>three</th>\n",
              "      <th>four</th>\n",
              "    </tr>\n",
              "  </thead>\n",
              "  <tbody>\n",
              "    <tr>\n",
              "      <th>OHIO</th>\n",
              "      <td>0</td>\n",
              "      <td>1</td>\n",
              "      <td>2</td>\n",
              "      <td>3</td>\n",
              "    </tr>\n",
              "    <tr>\n",
              "      <th>COLO</th>\n",
              "      <td>4</td>\n",
              "      <td>5</td>\n",
              "      <td>6</td>\n",
              "      <td>7</td>\n",
              "    </tr>\n",
              "    <tr>\n",
              "      <th>NEW</th>\n",
              "      <td>8</td>\n",
              "      <td>9</td>\n",
              "      <td>10</td>\n",
              "      <td>11</td>\n",
              "    </tr>\n",
              "  </tbody>\n",
              "</table>\n",
              "</div>"
            ],
            "text/plain": [
              "      one  two  three  four\n",
              "OHIO    0    1      2     3\n",
              "COLO    4    5      6     7\n",
              "NEW     8    9     10    11"
            ]
          },
          "execution_count": 32,
          "metadata": {},
          "output_type": "execute_result"
        }
      ],
      "source": [
        "data"
      ]
    },
    {
      "cell_type": "markdown",
      "id": "af23dfe0",
      "metadata": {
        "id": "af23dfe0"
      },
      "source": [
        "If you want to create a transformed version of a dataset without modifying the original, a useful method is rename:"
      ]
    },
    {
      "cell_type": "code",
      "execution_count": null,
      "id": "6a263c64",
      "metadata": {
        "id": "6a263c64",
        "outputId": "fceecff5-90b4-421a-e184-f63e484c6a2c"
      },
      "outputs": [
        {
          "data": {
            "text/html": [
              "<div>\n",
              "<style scoped>\n",
              "    .dataframe tbody tr th:only-of-type {\n",
              "        vertical-align: middle;\n",
              "    }\n",
              "\n",
              "    .dataframe tbody tr th {\n",
              "        vertical-align: top;\n",
              "    }\n",
              "\n",
              "    .dataframe thead th {\n",
              "        text-align: right;\n",
              "    }\n",
              "</style>\n",
              "<table border=\"1\" class=\"dataframe\">\n",
              "  <thead>\n",
              "    <tr style=\"text-align: right;\">\n",
              "      <th></th>\n",
              "      <th>ONE</th>\n",
              "      <th>TWO</th>\n",
              "      <th>THREE</th>\n",
              "      <th>FOUR</th>\n",
              "    </tr>\n",
              "  </thead>\n",
              "  <tbody>\n",
              "    <tr>\n",
              "      <th>Ohio</th>\n",
              "      <td>0</td>\n",
              "      <td>1</td>\n",
              "      <td>2</td>\n",
              "      <td>3</td>\n",
              "    </tr>\n",
              "    <tr>\n",
              "      <th>Colo</th>\n",
              "      <td>4</td>\n",
              "      <td>5</td>\n",
              "      <td>6</td>\n",
              "      <td>7</td>\n",
              "    </tr>\n",
              "    <tr>\n",
              "      <th>New</th>\n",
              "      <td>8</td>\n",
              "      <td>9</td>\n",
              "      <td>10</td>\n",
              "      <td>11</td>\n",
              "    </tr>\n",
              "  </tbody>\n",
              "</table>\n",
              "</div>"
            ],
            "text/plain": [
              "      ONE  TWO  THREE  FOUR\n",
              "Ohio    0    1      2     3\n",
              "Colo    4    5      6     7\n",
              "New     8    9     10    11"
            ]
          },
          "execution_count": 33,
          "metadata": {},
          "output_type": "execute_result"
        }
      ],
      "source": [
        "data.rename(index=str.title, columns=str.upper)"
      ]
    },
    {
      "cell_type": "markdown",
      "id": "b42aa019",
      "metadata": {
        "id": "b42aa019"
      },
      "source": [
        "Notably, rename can be used in conjunction with a dict-like object providing new values for a subset of the axis labels:"
      ]
    },
    {
      "cell_type": "code",
      "execution_count": null,
      "id": "93450407",
      "metadata": {
        "id": "93450407",
        "outputId": "3aab6c1d-50c4-408c-bc55-7b374e8bd36c"
      },
      "outputs": [
        {
          "data": {
            "text/html": [
              "<div>\n",
              "<style scoped>\n",
              "    .dataframe tbody tr th:only-of-type {\n",
              "        vertical-align: middle;\n",
              "    }\n",
              "\n",
              "    .dataframe tbody tr th {\n",
              "        vertical-align: top;\n",
              "    }\n",
              "\n",
              "    .dataframe thead th {\n",
              "        text-align: right;\n",
              "    }\n",
              "</style>\n",
              "<table border=\"1\" class=\"dataframe\">\n",
              "  <thead>\n",
              "    <tr style=\"text-align: right;\">\n",
              "      <th></th>\n",
              "      <th>one</th>\n",
              "      <th>two</th>\n",
              "      <th>peekaboo</th>\n",
              "      <th>four</th>\n",
              "    </tr>\n",
              "  </thead>\n",
              "  <tbody>\n",
              "    <tr>\n",
              "      <th>INDIANA</th>\n",
              "      <td>0</td>\n",
              "      <td>1</td>\n",
              "      <td>2</td>\n",
              "      <td>3</td>\n",
              "    </tr>\n",
              "    <tr>\n",
              "      <th>COLO</th>\n",
              "      <td>4</td>\n",
              "      <td>5</td>\n",
              "      <td>6</td>\n",
              "      <td>7</td>\n",
              "    </tr>\n",
              "    <tr>\n",
              "      <th>NEW</th>\n",
              "      <td>8</td>\n",
              "      <td>9</td>\n",
              "      <td>10</td>\n",
              "      <td>11</td>\n",
              "    </tr>\n",
              "  </tbody>\n",
              "</table>\n",
              "</div>"
            ],
            "text/plain": [
              "         one  two  peekaboo  four\n",
              "INDIANA    0    1         2     3\n",
              "COLO       4    5         6     7\n",
              "NEW        8    9        10    11"
            ]
          },
          "execution_count": 34,
          "metadata": {},
          "output_type": "execute_result"
        }
      ],
      "source": [
        " data.rename(index={'OHIO': 'INDIANA'},\n",
        "             columns={'three': 'peekaboo'})"
      ]
    },
    {
      "cell_type": "markdown",
      "id": "174d2251",
      "metadata": {
        "id": "174d2251"
      },
      "source": [
        "rename saves you from the chore of copying the DataFrame manually and assigning to its index and columns attributes. Should you wish to modify a dataset in-place, pass inplace=True:"
      ]
    },
    {
      "cell_type": "code",
      "execution_count": null,
      "id": "b6d7b70d",
      "metadata": {
        "id": "b6d7b70d"
      },
      "outputs": [],
      "source": [
        " data.rename(index={'OHIO': 'INDIANA'}, inplace=True)"
      ]
    },
    {
      "cell_type": "code",
      "execution_count": null,
      "id": "7fe5996b",
      "metadata": {
        "id": "7fe5996b",
        "outputId": "4ec35fad-4228-4d2c-cab9-d22e90950627"
      },
      "outputs": [
        {
          "data": {
            "text/html": [
              "<div>\n",
              "<style scoped>\n",
              "    .dataframe tbody tr th:only-of-type {\n",
              "        vertical-align: middle;\n",
              "    }\n",
              "\n",
              "    .dataframe tbody tr th {\n",
              "        vertical-align: top;\n",
              "    }\n",
              "\n",
              "    .dataframe thead th {\n",
              "        text-align: right;\n",
              "    }\n",
              "</style>\n",
              "<table border=\"1\" class=\"dataframe\">\n",
              "  <thead>\n",
              "    <tr style=\"text-align: right;\">\n",
              "      <th></th>\n",
              "      <th>one</th>\n",
              "      <th>two</th>\n",
              "      <th>three</th>\n",
              "      <th>four</th>\n",
              "    </tr>\n",
              "  </thead>\n",
              "  <tbody>\n",
              "    <tr>\n",
              "      <th>INDIANA</th>\n",
              "      <td>0</td>\n",
              "      <td>1</td>\n",
              "      <td>2</td>\n",
              "      <td>3</td>\n",
              "    </tr>\n",
              "    <tr>\n",
              "      <th>COLO</th>\n",
              "      <td>4</td>\n",
              "      <td>5</td>\n",
              "      <td>6</td>\n",
              "      <td>7</td>\n",
              "    </tr>\n",
              "    <tr>\n",
              "      <th>NEW</th>\n",
              "      <td>8</td>\n",
              "      <td>9</td>\n",
              "      <td>10</td>\n",
              "      <td>11</td>\n",
              "    </tr>\n",
              "  </tbody>\n",
              "</table>\n",
              "</div>"
            ],
            "text/plain": [
              "         one  two  three  four\n",
              "INDIANA    0    1      2     3\n",
              "COLO       4    5      6     7\n",
              "NEW        8    9     10    11"
            ]
          },
          "execution_count": 36,
          "metadata": {},
          "output_type": "execute_result"
        }
      ],
      "source": [
        "data"
      ]
    },
    {
      "cell_type": "markdown",
      "id": "4455c401",
      "metadata": {
        "id": "4455c401"
      },
      "source": [
        "## 4. Computing Indicator/Dummy Variables\n",
        " If a column in a DataFrame has k distinct values, you would derive a matrix or DataFrame with k columns containing all 1s and 0s. pandas has a get_dummies function for doing this, though devising one yourself is not difficult. Let’s return to an earlier example DataFrame:"
      ]
    },
    {
      "cell_type": "code",
      "execution_count": null,
      "id": "3ffc65d7",
      "metadata": {
        "id": "3ffc65d7"
      },
      "outputs": [],
      "source": [
        " df = pd.DataFrame({'key': ['b', 'b', 'a', 'c', 'a', 'b'],\n",
        "                    'data1': range(6)})"
      ]
    },
    {
      "cell_type": "code",
      "execution_count": null,
      "id": "c753d179",
      "metadata": {
        "id": "c753d179",
        "outputId": "f55e910a-d3d6-4b17-92f2-484ab43f75cf"
      },
      "outputs": [
        {
          "data": {
            "text/html": [
              "<div>\n",
              "<style scoped>\n",
              "    .dataframe tbody tr th:only-of-type {\n",
              "        vertical-align: middle;\n",
              "    }\n",
              "\n",
              "    .dataframe tbody tr th {\n",
              "        vertical-align: top;\n",
              "    }\n",
              "\n",
              "    .dataframe thead th {\n",
              "        text-align: right;\n",
              "    }\n",
              "</style>\n",
              "<table border=\"1\" class=\"dataframe\">\n",
              "  <thead>\n",
              "    <tr style=\"text-align: right;\">\n",
              "      <th></th>\n",
              "      <th>key</th>\n",
              "      <th>data1</th>\n",
              "    </tr>\n",
              "  </thead>\n",
              "  <tbody>\n",
              "    <tr>\n",
              "      <th>0</th>\n",
              "      <td>b</td>\n",
              "      <td>0</td>\n",
              "    </tr>\n",
              "    <tr>\n",
              "      <th>1</th>\n",
              "      <td>b</td>\n",
              "      <td>1</td>\n",
              "    </tr>\n",
              "    <tr>\n",
              "      <th>2</th>\n",
              "      <td>a</td>\n",
              "      <td>2</td>\n",
              "    </tr>\n",
              "    <tr>\n",
              "      <th>3</th>\n",
              "      <td>c</td>\n",
              "      <td>3</td>\n",
              "    </tr>\n",
              "    <tr>\n",
              "      <th>4</th>\n",
              "      <td>a</td>\n",
              "      <td>4</td>\n",
              "    </tr>\n",
              "    <tr>\n",
              "      <th>5</th>\n",
              "      <td>b</td>\n",
              "      <td>5</td>\n",
              "    </tr>\n",
              "  </tbody>\n",
              "</table>\n",
              "</div>"
            ],
            "text/plain": [
              "  key  data1\n",
              "0   b      0\n",
              "1   b      1\n",
              "2   a      2\n",
              "3   c      3\n",
              "4   a      4\n",
              "5   b      5"
            ]
          },
          "execution_count": 38,
          "metadata": {},
          "output_type": "execute_result"
        }
      ],
      "source": [
        "df"
      ]
    },
    {
      "cell_type": "code",
      "execution_count": null,
      "id": "eee42f78",
      "metadata": {
        "id": "eee42f78",
        "outputId": "7ab0e724-c33f-4563-cf82-fef15181c4f2"
      },
      "outputs": [
        {
          "data": {
            "text/html": [
              "<div>\n",
              "<style scoped>\n",
              "    .dataframe tbody tr th:only-of-type {\n",
              "        vertical-align: middle;\n",
              "    }\n",
              "\n",
              "    .dataframe tbody tr th {\n",
              "        vertical-align: top;\n",
              "    }\n",
              "\n",
              "    .dataframe thead th {\n",
              "        text-align: right;\n",
              "    }\n",
              "</style>\n",
              "<table border=\"1\" class=\"dataframe\">\n",
              "  <thead>\n",
              "    <tr style=\"text-align: right;\">\n",
              "      <th></th>\n",
              "      <th>a</th>\n",
              "      <th>b</th>\n",
              "      <th>c</th>\n",
              "    </tr>\n",
              "  </thead>\n",
              "  <tbody>\n",
              "    <tr>\n",
              "      <th>0</th>\n",
              "      <td>0</td>\n",
              "      <td>1</td>\n",
              "      <td>0</td>\n",
              "    </tr>\n",
              "    <tr>\n",
              "      <th>1</th>\n",
              "      <td>0</td>\n",
              "      <td>1</td>\n",
              "      <td>0</td>\n",
              "    </tr>\n",
              "    <tr>\n",
              "      <th>2</th>\n",
              "      <td>1</td>\n",
              "      <td>0</td>\n",
              "      <td>0</td>\n",
              "    </tr>\n",
              "    <tr>\n",
              "      <th>3</th>\n",
              "      <td>0</td>\n",
              "      <td>0</td>\n",
              "      <td>1</td>\n",
              "    </tr>\n",
              "    <tr>\n",
              "      <th>4</th>\n",
              "      <td>1</td>\n",
              "      <td>0</td>\n",
              "      <td>0</td>\n",
              "    </tr>\n",
              "    <tr>\n",
              "      <th>5</th>\n",
              "      <td>0</td>\n",
              "      <td>1</td>\n",
              "      <td>0</td>\n",
              "    </tr>\n",
              "  </tbody>\n",
              "</table>\n",
              "</div>"
            ],
            "text/plain": [
              "   a  b  c\n",
              "0  0  1  0\n",
              "1  0  1  0\n",
              "2  1  0  0\n",
              "3  0  0  1\n",
              "4  1  0  0\n",
              "5  0  1  0"
            ]
          },
          "execution_count": 39,
          "metadata": {},
          "output_type": "execute_result"
        }
      ],
      "source": [
        " pd.get_dummies(df['key'])"
      ]
    },
    {
      "cell_type": "markdown",
      "id": "6dc158b5",
      "metadata": {
        "id": "6dc158b5"
      },
      "source": [
        "In some cases, you may want to add a prefix to the columns in the indicator DataFrame, which can then be merged with the other data. get_dummies has a prefix argument for doing this:"
      ]
    },
    {
      "cell_type": "code",
      "execution_count": null,
      "id": "e95d0b1f",
      "metadata": {
        "id": "e95d0b1f"
      },
      "outputs": [],
      "source": [
        "dummies = pd.get_dummies(df['key'], prefix='key')\n",
        "df_with_dummy = df[['data1']].join(dummies)"
      ]
    },
    {
      "cell_type": "code",
      "execution_count": null,
      "id": "e0063f9e",
      "metadata": {
        "id": "e0063f9e",
        "outputId": "9d544cc5-268d-43ae-9dd8-16a3e9f7af4d"
      },
      "outputs": [
        {
          "data": {
            "text/html": [
              "<div>\n",
              "<style scoped>\n",
              "    .dataframe tbody tr th:only-of-type {\n",
              "        vertical-align: middle;\n",
              "    }\n",
              "\n",
              "    .dataframe tbody tr th {\n",
              "        vertical-align: top;\n",
              "    }\n",
              "\n",
              "    .dataframe thead th {\n",
              "        text-align: right;\n",
              "    }\n",
              "</style>\n",
              "<table border=\"1\" class=\"dataframe\">\n",
              "  <thead>\n",
              "    <tr style=\"text-align: right;\">\n",
              "      <th></th>\n",
              "      <th>data1</th>\n",
              "      <th>key_a</th>\n",
              "      <th>key_b</th>\n",
              "      <th>key_c</th>\n",
              "    </tr>\n",
              "  </thead>\n",
              "  <tbody>\n",
              "    <tr>\n",
              "      <th>0</th>\n",
              "      <td>0</td>\n",
              "      <td>0</td>\n",
              "      <td>1</td>\n",
              "      <td>0</td>\n",
              "    </tr>\n",
              "    <tr>\n",
              "      <th>1</th>\n",
              "      <td>1</td>\n",
              "      <td>0</td>\n",
              "      <td>1</td>\n",
              "      <td>0</td>\n",
              "    </tr>\n",
              "    <tr>\n",
              "      <th>2</th>\n",
              "      <td>2</td>\n",
              "      <td>1</td>\n",
              "      <td>0</td>\n",
              "      <td>0</td>\n",
              "    </tr>\n",
              "    <tr>\n",
              "      <th>3</th>\n",
              "      <td>3</td>\n",
              "      <td>0</td>\n",
              "      <td>0</td>\n",
              "      <td>1</td>\n",
              "    </tr>\n",
              "    <tr>\n",
              "      <th>4</th>\n",
              "      <td>4</td>\n",
              "      <td>1</td>\n",
              "      <td>0</td>\n",
              "      <td>0</td>\n",
              "    </tr>\n",
              "    <tr>\n",
              "      <th>5</th>\n",
              "      <td>5</td>\n",
              "      <td>0</td>\n",
              "      <td>1</td>\n",
              "      <td>0</td>\n",
              "    </tr>\n",
              "  </tbody>\n",
              "</table>\n",
              "</div>"
            ],
            "text/plain": [
              "   data1  key_a  key_b  key_c\n",
              "0      0      0      1      0\n",
              "1      1      0      1      0\n",
              "2      2      1      0      0\n",
              "3      3      0      0      1\n",
              "4      4      1      0      0\n",
              "5      5      0      1      0"
            ]
          },
          "execution_count": 42,
          "metadata": {},
          "output_type": "execute_result"
        }
      ],
      "source": [
        "df_with_dummy"
      ]
    }
  ],
  "metadata": {
    "kernelspec": {
      "display_name": "Python 3",
      "language": "python",
      "name": "python3"
    },
    "language_info": {
      "codemirror_mode": {
        "name": "ipython",
        "version": 3
      },
      "file_extension": ".py",
      "mimetype": "text/x-python",
      "name": "python",
      "nbconvert_exporter": "python",
      "pygments_lexer": "ipython3",
      "version": "3.8.8"
    },
    "colab": {
      "provenance": [],
      "include_colab_link": true
    }
  },
  "nbformat": 4,
  "nbformat_minor": 5
}