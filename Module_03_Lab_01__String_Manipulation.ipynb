{
  "cells": [
    {
      "cell_type": "markdown",
      "metadata": {
        "id": "view-in-github",
        "colab_type": "text"
      },
      "source": [
        "<a href=\"https://colab.research.google.com/github/DostdarDost/DATA-SCIENCE-AND-ARTIFICIAL-INTELLIGENCE-DSAI-GILGIT/blob/main/Module_03_Lab_01__String_Manipulation.ipynb\" target=\"_parent\"><img src=\"https://colab.research.google.com/assets/colab-badge.svg\" alt=\"Open In Colab\"/></a>"
      ]
    },
    {
      "cell_type": "markdown",
      "id": "1661026e",
      "metadata": {
        "id": "1661026e"
      },
      "source": [
        "#  String Manipulation"
      ]
    },
    {
      "cell_type": "markdown",
      "id": "aa8ad28e",
      "metadata": {
        "id": "aa8ad28e"
      },
      "source": [
        "## 1. String Object Methods\n",
        "As an example, a comma-separated string can be broken into pieces with split."
      ]
    },
    {
      "cell_type": "code",
      "execution_count": null,
      "id": "c3c54e06",
      "metadata": {
        "id": "c3c54e06"
      },
      "outputs": [],
      "source": [
        " val = 'a,b,  lerning'"
      ]
    },
    {
      "cell_type": "code",
      "execution_count": null,
      "id": "775dca14",
      "metadata": {
        "id": "775dca14",
        "outputId": "06e1fc3e-7d72-411b-dc96-f475f60a4669"
      },
      "outputs": [
        {
          "data": {
            "text/plain": [
              "['a,b,', 'lerning']"
            ]
          },
          "execution_count": 3,
          "metadata": {},
          "output_type": "execute_result"
        }
      ],
      "source": [
        "#split\n",
        "val.split()"
      ]
    },
    {
      "cell_type": "code",
      "execution_count": null,
      "id": "4b1290da",
      "metadata": {
        "id": "4b1290da",
        "outputId": "dd9f28b6-f278-45d4-e91e-cf4f6269aea9"
      },
      "outputs": [
        {
          "data": {
            "text/plain": [
              "['a', 'b', '  lerning']"
            ]
          },
          "execution_count": 4,
          "metadata": {},
          "output_type": "execute_result"
        }
      ],
      "source": [
        "val.split(',')"
      ]
    },
    {
      "cell_type": "markdown",
      "id": "61db8a5b",
      "metadata": {
        "id": "61db8a5b"
      },
      "source": [
        "split is often combined with strip to trim whitespace (including line breaks)"
      ]
    },
    {
      "cell_type": "code",
      "execution_count": null,
      "id": "b631f3cd",
      "metadata": {
        "id": "b631f3cd"
      },
      "outputs": [],
      "source": [
        "pieces = [x.strip() for x in val.split(',')]"
      ]
    },
    {
      "cell_type": "code",
      "execution_count": null,
      "id": "7e4e76cb",
      "metadata": {
        "id": "7e4e76cb",
        "outputId": "e054a610-e47c-4f5e-aa3a-81092c0a0bb0"
      },
      "outputs": [
        {
          "data": {
            "text/plain": [
              "['a', 'b', 'lerning']"
            ]
          },
          "execution_count": 7,
          "metadata": {},
          "output_type": "execute_result"
        }
      ],
      "source": [
        "pieces"
      ]
    },
    {
      "cell_type": "markdown",
      "id": "ed6807c2",
      "metadata": {
        "id": "ed6807c2"
      },
      "source": [
        "These substrings could be concatenated together with a two-colon delimiter using addition."
      ]
    },
    {
      "cell_type": "code",
      "execution_count": null,
      "id": "c553dd0e",
      "metadata": {
        "id": "c553dd0e",
        "outputId": "ef17b85f-ff4c-404d-8d7f-91688f797073"
      },
      "outputs": [
        {
          "data": {
            "text/plain": [
              "'a::b::lerning'"
            ]
          },
          "execution_count": 9,
          "metadata": {},
          "output_type": "execute_result"
        }
      ],
      "source": [
        "first, second, third = pieces\n",
        "first + '::' + second + '::' + third"
      ]
    },
    {
      "cell_type": "markdown",
      "id": "bd1bbdda",
      "metadata": {
        "id": "bd1bbdda"
      },
      "source": [
        "But this isn’t a practical generic method. A faster and more Pythonic way is to pass a list or tuple to the join method on the string '::'."
      ]
    },
    {
      "cell_type": "code",
      "execution_count": null,
      "id": "bf2d6b8e",
      "metadata": {
        "id": "bf2d6b8e",
        "outputId": "fd65bdbc-0298-4d80-ac58-a57ddf1d03fc"
      },
      "outputs": [
        {
          "data": {
            "text/plain": [
              "'a::b::lerning'"
            ]
          },
          "execution_count": 11,
          "metadata": {},
          "output_type": "execute_result"
        }
      ],
      "source": [
        " '::'.join(pieces)"
      ]
    },
    {
      "cell_type": "markdown",
      "id": "b4181322",
      "metadata": {
        "id": "b4181322"
      },
      "source": [
        "Other methods are concerned with locating substrings. Using Python’s in keyword is the best way to detect a substring, though index and find can also be used:"
      ]
    },
    {
      "cell_type": "code",
      "execution_count": null,
      "id": "514c2415",
      "metadata": {
        "id": "514c2415",
        "outputId": "40b8846b-8bda-45fc-d54d-9b7f5491c934"
      },
      "outputs": [
        {
          "data": {
            "text/plain": [
              "True"
            ]
          },
          "execution_count": 12,
          "metadata": {},
          "output_type": "execute_result"
        }
      ],
      "source": [
        "'lerning'in val"
      ]
    },
    {
      "cell_type": "code",
      "execution_count": null,
      "id": "37c1f64a",
      "metadata": {
        "id": "37c1f64a",
        "outputId": "94c2fd75-0100-48c2-e5ad-375b1ae215fd"
      },
      "outputs": [
        {
          "data": {
            "text/plain": [
              "1"
            ]
          },
          "execution_count": 13,
          "metadata": {},
          "output_type": "execute_result"
        }
      ],
      "source": [
        "val.index(',')"
      ]
    },
    {
      "cell_type": "code",
      "execution_count": null,
      "id": "1e311e90",
      "metadata": {
        "id": "1e311e90",
        "outputId": "4441ad87-cb76-447b-e7e1-c476a2fee4ec"
      },
      "outputs": [
        {
          "data": {
            "text/plain": [
              "-1"
            ]
          },
          "execution_count": 15,
          "metadata": {},
          "output_type": "execute_result"
        }
      ],
      "source": [
        "val.find(':')"
      ]
    },
    {
      "cell_type": "markdown",
      "id": "ac41ae4a",
      "metadata": {
        "id": "ac41ae4a"
      },
      "source": [
        "Note the difference between find and index is that index raises an exception if the string isn’t found (versus returning –1)."
      ]
    },
    {
      "cell_type": "markdown",
      "id": "71b87881",
      "metadata": {
        "id": "71b87881"
      },
      "source": [
        "Replace will substitute occurrences of one pattern for another. It is commonly used to delete patterns, too, by passing an empty string."
      ]
    },
    {
      "cell_type": "code",
      "execution_count": null,
      "id": "89125d88",
      "metadata": {
        "id": "89125d88",
        "outputId": "73a01e27-7444-4a1c-9157-57c538b2773b"
      },
      "outputs": [
        {
          "data": {
            "text/plain": [
              "'a::b::  lerning'"
            ]
          },
          "execution_count": 16,
          "metadata": {},
          "output_type": "execute_result"
        }
      ],
      "source": [
        " val.replace(',', '::')"
      ]
    },
    {
      "cell_type": "code",
      "execution_count": null,
      "id": "9ab2a0d5",
      "metadata": {
        "id": "9ab2a0d5",
        "outputId": "8716735e-8a6f-4a01-a218-0c89ec6ef49d"
      },
      "outputs": [
        {
          "data": {
            "text/plain": [
              "'ab  lerning'"
            ]
          },
          "execution_count": 17,
          "metadata": {},
          "output_type": "execute_result"
        }
      ],
      "source": [
        " val.replace(',', '')"
      ]
    },
    {
      "cell_type": "markdown",
      "id": "7cdd14df",
      "metadata": {
        "id": "7cdd14df"
      },
      "source": [
        "## 2. Regular Expressions\n",
        "suppose we wanted to split a string with a variable number of whitespace characters (tabs, spaces, and newlines). The regex describing one or more whitespace characters is \\s+:"
      ]
    },
    {
      "cell_type": "code",
      "execution_count": null,
      "id": "e8fc23b1",
      "metadata": {
        "id": "e8fc23b1"
      },
      "outputs": [],
      "source": [
        "import re\n",
        "text = \"foo    bar\\t baz  \\tqux\""
      ]
    },
    {
      "cell_type": "code",
      "execution_count": null,
      "id": "1d8d580a",
      "metadata": {
        "id": "1d8d580a",
        "outputId": "4767d99b-b756-4434-fed2-624898274637"
      },
      "outputs": [
        {
          "data": {
            "text/plain": [
              "'foo    bar\\t baz  \\tqux'"
            ]
          },
          "execution_count": 19,
          "metadata": {},
          "output_type": "execute_result"
        }
      ],
      "source": [
        "text"
      ]
    },
    {
      "cell_type": "code",
      "execution_count": null,
      "id": "7bdd8ec2",
      "metadata": {
        "id": "7bdd8ec2",
        "outputId": "8c5da927-8a86-45e9-fd5c-15120f61f605"
      },
      "outputs": [
        {
          "data": {
            "text/plain": [
              "['foo', 'bar', 'baz', 'qux']"
            ]
          },
          "execution_count": 20,
          "metadata": {},
          "output_type": "execute_result"
        }
      ],
      "source": [
        " re.split('\\s+', text)"
      ]
    },
    {
      "cell_type": "markdown",
      "id": "5cc59a9e",
      "metadata": {
        "id": "5cc59a9e"
      },
      "source": [
        "When you call re.split('\\s+', text), the regular expression is first compiled, and then its split method is called on the passed text. You can compile the regex yourself with re.compile, forming a reusable regex object."
      ]
    },
    {
      "cell_type": "code",
      "execution_count": null,
      "id": "8e1673f8",
      "metadata": {
        "id": "8e1673f8",
        "outputId": "0911935d-65a2-4fcb-d189-9b1b3804a013"
      },
      "outputs": [
        {
          "data": {
            "text/plain": [
              "['foo', 'bar', 'baz', 'qux']"
            ]
          },
          "execution_count": 21,
          "metadata": {},
          "output_type": "execute_result"
        }
      ],
      "source": [
        "regex = re.compile('\\s+')\n",
        "regex.split(text)"
      ]
    },
    {
      "cell_type": "markdown",
      "id": "03ca6a40",
      "metadata": {
        "id": "03ca6a40"
      },
      "source": [
        "let’s consider a block of text and a regular expression capable of identifying most email addresses:"
      ]
    },
    {
      "cell_type": "code",
      "execution_count": null,
      "id": "e08b382b",
      "metadata": {
        "id": "e08b382b"
      },
      "outputs": [],
      "source": [
        "text = \"\"\"Dave dave@google.com\n",
        "Steve steve@gmail.com\n",
        "Rob rob@gmail.com Ryan ryan@yahoo.com \"\"\"\n",
        "pattern = r'[A-Z0-9._%+-]+@[A-Z0-9.-]+\\.[A-Z]{2,4}'\n",
        "# re.IGNORECASE makes the regex case-insensitive\n",
        "regex = re.compile(pattern, flags=re.IGNORECASE)"
      ]
    },
    {
      "cell_type": "code",
      "execution_count": null,
      "id": "d4c699b7",
      "metadata": {
        "id": "d4c699b7",
        "outputId": "fbbb4d61-8182-4294-afae-e7afa8dc963b"
      },
      "outputs": [
        {
          "data": {
            "text/plain": [
              "['dave@google.com', 'steve@gmail.com', 'rob@gmail.com', 'ryan@yahoo.com']"
            ]
          },
          "execution_count": 27,
          "metadata": {},
          "output_type": "execute_result"
        }
      ],
      "source": [
        " regex.findall(text)"
      ]
    },
    {
      "cell_type": "markdown",
      "id": "59a0567f",
      "metadata": {
        "id": "59a0567f"
      },
      "source": [
        "## 3. Vectorized String Functions in pandas\n",
        " To complicate matters, a column containing strings will sometimes have missing data:"
      ]
    },
    {
      "cell_type": "code",
      "execution_count": null,
      "id": "b454c803",
      "metadata": {
        "id": "b454c803"
      },
      "outputs": [],
      "source": [
        "import numpy as np\n",
        "import pandas as pd"
      ]
    },
    {
      "cell_type": "code",
      "execution_count": null,
      "id": "f5e0c1d6",
      "metadata": {
        "id": "f5e0c1d6"
      },
      "outputs": [],
      "source": [
        " data = {'Dave': 'dave@google.com', 'Steve': 'steve@gmail.com',\n",
        "         'Rob': 'rob@gmail.com', 'Wes': np.nan}"
      ]
    },
    {
      "cell_type": "code",
      "execution_count": null,
      "id": "91c02036",
      "metadata": {
        "id": "91c02036",
        "outputId": "f69b5b21-b73f-49a4-90ba-b9ad15dd8802"
      },
      "outputs": [
        {
          "data": {
            "text/plain": [
              "Dave     dave@google.com\n",
              "Steve    steve@gmail.com\n",
              "Rob        rob@gmail.com\n",
              "Wes                  NaN\n",
              "dtype: object"
            ]
          },
          "execution_count": 35,
          "metadata": {},
          "output_type": "execute_result"
        }
      ],
      "source": [
        "data = pd.Series(data)\n",
        "data"
      ]
    },
    {
      "cell_type": "code",
      "execution_count": null,
      "id": "d36ed996",
      "metadata": {
        "id": "d36ed996",
        "outputId": "766bc40f-c12b-4669-e3dd-087b1972ad28"
      },
      "outputs": [
        {
          "data": {
            "text/plain": [
              "Dave     False\n",
              "Steve    False\n",
              "Rob      False\n",
              "Wes       True\n",
              "dtype: bool"
            ]
          },
          "execution_count": 37,
          "metadata": {},
          "output_type": "execute_result"
        }
      ],
      "source": [
        " data.isnull()"
      ]
    },
    {
      "cell_type": "markdown",
      "id": "e1478d5c",
      "metadata": {
        "id": "e1478d5c"
      },
      "source": [
        "You can apply string and regular expression methods can be applied (passing a lambda or other function) to each value using data.map, but it will fail on the NA (null) values. To cope with this, Series has array-oriented methods for string operations that skip NA values. These are accessed through Series’s str attribute; for example, we could check whether each email address has 'gmail' in it with str.contains."
      ]
    },
    {
      "cell_type": "code",
      "execution_count": null,
      "id": "d0b96d7b",
      "metadata": {
        "id": "d0b96d7b",
        "outputId": "6bd4bba3-27b4-448a-8b3a-3fc92873c192"
      },
      "outputs": [
        {
          "data": {
            "text/plain": [
              "Dave     False\n",
              "Steve     True\n",
              "Rob       True\n",
              "Wes        NaN\n",
              "dtype: object"
            ]
          },
          "execution_count": 38,
          "metadata": {},
          "output_type": "execute_result"
        }
      ],
      "source": [
        " data.str.contains('gmail')"
      ]
    },
    {
      "cell_type": "markdown",
      "id": "bd26e1fc",
      "metadata": {
        "id": "bd26e1fc"
      },
      "source": [
        "There are a couple of ways to do vectorized element retrieval. Either use str.get or index into the str attribute:"
      ]
    },
    {
      "cell_type": "code",
      "execution_count": null,
      "id": "e59fce14",
      "metadata": {
        "id": "e59fce14"
      },
      "outputs": [],
      "source": [
        " matches = data.str.match(pattern, flags=re.IGNORECASE)"
      ]
    },
    {
      "cell_type": "markdown",
      "id": "41aa4e7e",
      "metadata": {
        "id": "41aa4e7e"
      },
      "source": [
        "To access elements in the embedded lists, we can pass an index to either of these functions:"
      ]
    },
    {
      "cell_type": "code",
      "execution_count": null,
      "id": "c480501d",
      "metadata": {
        "id": "c480501d",
        "outputId": "6cdd842b-56c2-4275-f5e1-3d93a1d727cb"
      },
      "outputs": [
        {
          "ename": "AttributeError",
          "evalue": "Can only use .str accessor with string values!",
          "output_type": "error",
          "traceback": [
            "\u001b[1;31m---------------------------------------------------------------------------\u001b[0m",
            "\u001b[1;31mAttributeError\u001b[0m                            Traceback (most recent call last)",
            "\u001b[1;32m<ipython-input-42-f5bd4619840a>\u001b[0m in \u001b[0;36m<module>\u001b[1;34m\u001b[0m\n\u001b[1;32m----> 1\u001b[1;33m \u001b[0mmatches\u001b[0m\u001b[1;33m.\u001b[0m\u001b[0mstr\u001b[0m\u001b[1;33m.\u001b[0m\u001b[0mget\u001b[0m\u001b[1;33m(\u001b[0m\u001b[1;36m1\u001b[0m\u001b[1;33m)\u001b[0m\u001b[1;33m\u001b[0m\u001b[1;33m\u001b[0m\u001b[0m\n\u001b[0m",
            "\u001b[1;32m~\\anaconda3\\lib\\site-packages\\pandas\\core\\generic.py\u001b[0m in \u001b[0;36m__getattr__\u001b[1;34m(self, name)\u001b[0m\n\u001b[0;32m   5459\u001b[0m             \u001b[1;32mor\u001b[0m \u001b[0mname\u001b[0m \u001b[1;32min\u001b[0m \u001b[0mself\u001b[0m\u001b[1;33m.\u001b[0m\u001b[0m_accessors\u001b[0m\u001b[1;33m\u001b[0m\u001b[1;33m\u001b[0m\u001b[0m\n\u001b[0;32m   5460\u001b[0m         ):\n\u001b[1;32m-> 5461\u001b[1;33m             \u001b[1;32mreturn\u001b[0m \u001b[0mobject\u001b[0m\u001b[1;33m.\u001b[0m\u001b[0m__getattribute__\u001b[0m\u001b[1;33m(\u001b[0m\u001b[0mself\u001b[0m\u001b[1;33m,\u001b[0m \u001b[0mname\u001b[0m\u001b[1;33m)\u001b[0m\u001b[1;33m\u001b[0m\u001b[1;33m\u001b[0m\u001b[0m\n\u001b[0m\u001b[0;32m   5462\u001b[0m         \u001b[1;32melse\u001b[0m\u001b[1;33m:\u001b[0m\u001b[1;33m\u001b[0m\u001b[1;33m\u001b[0m\u001b[0m\n\u001b[0;32m   5463\u001b[0m             \u001b[1;32mif\u001b[0m \u001b[0mself\u001b[0m\u001b[1;33m.\u001b[0m\u001b[0m_info_axis\u001b[0m\u001b[1;33m.\u001b[0m\u001b[0m_can_hold_identifiers_and_holds_name\u001b[0m\u001b[1;33m(\u001b[0m\u001b[0mname\u001b[0m\u001b[1;33m)\u001b[0m\u001b[1;33m:\u001b[0m\u001b[1;33m\u001b[0m\u001b[1;33m\u001b[0m\u001b[0m\n",
            "\u001b[1;32m~\\anaconda3\\lib\\site-packages\\pandas\\core\\accessor.py\u001b[0m in \u001b[0;36m__get__\u001b[1;34m(self, obj, cls)\u001b[0m\n\u001b[0;32m    178\u001b[0m             \u001b[1;31m# we're accessing the attribute of the class, i.e., Dataset.geo\u001b[0m\u001b[1;33m\u001b[0m\u001b[1;33m\u001b[0m\u001b[1;33m\u001b[0m\u001b[0m\n\u001b[0;32m    179\u001b[0m             \u001b[1;32mreturn\u001b[0m \u001b[0mself\u001b[0m\u001b[1;33m.\u001b[0m\u001b[0m_accessor\u001b[0m\u001b[1;33m\u001b[0m\u001b[1;33m\u001b[0m\u001b[0m\n\u001b[1;32m--> 180\u001b[1;33m         \u001b[0maccessor_obj\u001b[0m \u001b[1;33m=\u001b[0m \u001b[0mself\u001b[0m\u001b[1;33m.\u001b[0m\u001b[0m_accessor\u001b[0m\u001b[1;33m(\u001b[0m\u001b[0mobj\u001b[0m\u001b[1;33m)\u001b[0m\u001b[1;33m\u001b[0m\u001b[1;33m\u001b[0m\u001b[0m\n\u001b[0m\u001b[0;32m    181\u001b[0m         \u001b[1;31m# Replace the property with the accessor object. Inspired by:\u001b[0m\u001b[1;33m\u001b[0m\u001b[1;33m\u001b[0m\u001b[1;33m\u001b[0m\u001b[0m\n\u001b[0;32m    182\u001b[0m         \u001b[1;31m# https://www.pydanny.com/cached-property.html\u001b[0m\u001b[1;33m\u001b[0m\u001b[1;33m\u001b[0m\u001b[1;33m\u001b[0m\u001b[0m\n",
            "\u001b[1;32m~\\anaconda3\\lib\\site-packages\\pandas\\core\\strings\\accessor.py\u001b[0m in \u001b[0;36m__init__\u001b[1;34m(self, data)\u001b[0m\n\u001b[0;32m    152\u001b[0m         \u001b[1;32mfrom\u001b[0m \u001b[0mpandas\u001b[0m\u001b[1;33m.\u001b[0m\u001b[0mcore\u001b[0m\u001b[1;33m.\u001b[0m\u001b[0marrays\u001b[0m\u001b[1;33m.\u001b[0m\u001b[0mstring_\u001b[0m \u001b[1;32mimport\u001b[0m \u001b[0mStringDtype\u001b[0m\u001b[1;33m\u001b[0m\u001b[1;33m\u001b[0m\u001b[0m\n\u001b[0;32m    153\u001b[0m \u001b[1;33m\u001b[0m\u001b[0m\n\u001b[1;32m--> 154\u001b[1;33m         \u001b[0mself\u001b[0m\u001b[1;33m.\u001b[0m\u001b[0m_inferred_dtype\u001b[0m \u001b[1;33m=\u001b[0m \u001b[0mself\u001b[0m\u001b[1;33m.\u001b[0m\u001b[0m_validate\u001b[0m\u001b[1;33m(\u001b[0m\u001b[0mdata\u001b[0m\u001b[1;33m)\u001b[0m\u001b[1;33m\u001b[0m\u001b[1;33m\u001b[0m\u001b[0m\n\u001b[0m\u001b[0;32m    155\u001b[0m         \u001b[0mself\u001b[0m\u001b[1;33m.\u001b[0m\u001b[0m_is_categorical\u001b[0m \u001b[1;33m=\u001b[0m \u001b[0mis_categorical_dtype\u001b[0m\u001b[1;33m(\u001b[0m\u001b[0mdata\u001b[0m\u001b[1;33m.\u001b[0m\u001b[0mdtype\u001b[0m\u001b[1;33m)\u001b[0m\u001b[1;33m\u001b[0m\u001b[1;33m\u001b[0m\u001b[0m\n\u001b[0;32m    156\u001b[0m         \u001b[0mself\u001b[0m\u001b[1;33m.\u001b[0m\u001b[0m_is_string\u001b[0m \u001b[1;33m=\u001b[0m \u001b[0misinstance\u001b[0m\u001b[1;33m(\u001b[0m\u001b[0mdata\u001b[0m\u001b[1;33m.\u001b[0m\u001b[0mdtype\u001b[0m\u001b[1;33m,\u001b[0m \u001b[0mStringDtype\u001b[0m\u001b[1;33m)\u001b[0m\u001b[1;33m\u001b[0m\u001b[1;33m\u001b[0m\u001b[0m\n",
            "\u001b[1;32m~\\anaconda3\\lib\\site-packages\\pandas\\core\\strings\\accessor.py\u001b[0m in \u001b[0;36m_validate\u001b[1;34m(data)\u001b[0m\n\u001b[0;32m    215\u001b[0m \u001b[1;33m\u001b[0m\u001b[0m\n\u001b[0;32m    216\u001b[0m         \u001b[1;32mif\u001b[0m \u001b[0minferred_dtype\u001b[0m \u001b[1;32mnot\u001b[0m \u001b[1;32min\u001b[0m \u001b[0mallowed_types\u001b[0m\u001b[1;33m:\u001b[0m\u001b[1;33m\u001b[0m\u001b[1;33m\u001b[0m\u001b[0m\n\u001b[1;32m--> 217\u001b[1;33m             \u001b[1;32mraise\u001b[0m \u001b[0mAttributeError\u001b[0m\u001b[1;33m(\u001b[0m\u001b[1;34m\"Can only use .str accessor with string values!\"\u001b[0m\u001b[1;33m)\u001b[0m\u001b[1;33m\u001b[0m\u001b[1;33m\u001b[0m\u001b[0m\n\u001b[0m\u001b[0;32m    218\u001b[0m         \u001b[1;32mreturn\u001b[0m \u001b[0minferred_dtype\u001b[0m\u001b[1;33m\u001b[0m\u001b[1;33m\u001b[0m\u001b[0m\n\u001b[0;32m    219\u001b[0m \u001b[1;33m\u001b[0m\u001b[0m\n",
            "\u001b[1;31mAttributeError\u001b[0m: Can only use .str accessor with string values!"
          ]
        }
      ],
      "source": [
        "matches.str.get(1)"
      ]
    }
  ],
  "metadata": {
    "kernelspec": {
      "display_name": "Python 3",
      "language": "python",
      "name": "python3"
    },
    "language_info": {
      "codemirror_mode": {
        "name": "ipython",
        "version": 3
      },
      "file_extension": ".py",
      "mimetype": "text/x-python",
      "name": "python",
      "nbconvert_exporter": "python",
      "pygments_lexer": "ipython3",
      "version": "3.8.8"
    },
    "colab": {
      "provenance": [],
      "include_colab_link": true
    }
  },
  "nbformat": 4,
  "nbformat_minor": 5
}