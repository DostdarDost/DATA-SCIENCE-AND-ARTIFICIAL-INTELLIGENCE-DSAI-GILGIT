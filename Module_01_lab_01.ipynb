{
  "nbformat": 4,
  "nbformat_minor": 0,
  "metadata": {
    "colab": {
      "provenance": [],
      "authorship_tag": "ABX9TyNz9IcPwcKyDY5YNpVwSCww",
      "include_colab_link": true
    },
    "kernelspec": {
      "name": "python3",
      "display_name": "Python 3"
    },
    "language_info": {
      "name": "python"
    }
  },
  "cells": [
    {
      "cell_type": "markdown",
      "metadata": {
        "id": "view-in-github",
        "colab_type": "text"
      },
      "source": [
        "<a href=\"https://colab.research.google.com/github/DostdarDost/DATA-SCIENCE-AND-ARTIFICIAL-INTELLIGENCE-DSAI-GILGIT/blob/main/Module_01_lab_01.ipynb\" target=\"_parent\"><img src=\"https://colab.research.google.com/assets/colab-badge.svg\" alt=\"Open In Colab\"/></a>"
      ]
    },
    {
      "cell_type": "markdown",
      "source": [
        "# Module-01, Python Crash Course\n",
        ">\n",
        ">># Python Data types\n",
        "### 1. Numeric types\n",
        "\n",
        "*   Int\n",
        "*   float\n",
        "*   Complex\n",
        "\n",
        "\n",
        "\n"
      ],
      "metadata": {
        "id": "rP_4wECZQ45n"
      }
    },
    {
      "cell_type": "code",
      "execution_count": 4,
      "metadata": {
        "colab": {
          "base_uri": "https://localhost:8080/",
          "height": 0
        },
        "id": "SKXJfCKnP3ox",
        "outputId": "4dbf2aa4-f176-4e67-e548-6a7ef1c01f87"
      },
      "outputs": [
        {
          "output_type": "execute_result",
          "data": {
            "text/plain": [
              "int"
            ]
          },
          "metadata": {},
          "execution_count": 4
        }
      ],
      "source": [
        "x=5 # 5 is a intger Number\n",
        "type(x)\n"
      ]
    },
    {
      "cell_type": "markdown",
      "source": [
        "Check the type of data using print Function"
      ],
      "metadata": {
        "id": "sZkCvo6ST_J8"
      }
    },
    {
      "cell_type": "code",
      "source": [
        "print(type(x))"
      ],
      "metadata": {
        "colab": {
          "base_uri": "https://localhost:8080/",
          "height": 0
        },
        "id": "zJ0nHP0PUNr1",
        "outputId": "57856221-ff13-453c-9ab9-19f12fbdbd8e"
      },
      "execution_count": 9,
      "outputs": [
        {
          "output_type": "stream",
          "name": "stdout",
          "text": [
            "<class 'int'>\n"
          ]
        }
      ]
    },
    {
      "cell_type": "markdown",
      "source": [
        "Write a code of line which take intger number input from user"
      ],
      "metadata": {
        "id": "dGlz9hu7UcPw"
      }
    },
    {
      "cell_type": "code",
      "source": [
        "num= int(input(\"The entered number is: \"))\n"
      ],
      "metadata": {
        "colab": {
          "base_uri": "https://localhost:8080/",
          "height": 0
        },
        "id": "_KcZeoH_UreJ",
        "outputId": "826ceef1-7a2b-4272-c8ba-c6d38898a45e"
      },
      "execution_count": 14,
      "outputs": [
        {
          "name": "stdout",
          "output_type": "stream",
          "text": [
            "The entered number is: 56\n"
          ]
        }
      ]
    },
    {
      "cell_type": "code",
      "source": [
        "print(f\"The given ingter number is {num}\")"
      ],
      "metadata": {
        "colab": {
          "base_uri": "https://localhost:8080/",
          "height": 0
        },
        "id": "H3646pl2UbBM",
        "outputId": "dd2ed80c-3fed-4b11-b4bf-c5088c517695"
      },
      "execution_count": 15,
      "outputs": [
        {
          "output_type": "stream",
          "name": "stdout",
          "text": [
            "The given ingter number is 56\n"
          ]
        }
      ]
    },
    {
      "cell_type": "code",
      "source": [
        "# Task: Add two integers\n",
        "num1=5\n",
        "num2=2\n",
        "result = num1 +num2\n",
        "print(result)"
      ],
      "metadata": {
        "colab": {
          "base_uri": "https://localhost:8080/",
          "height": 0
        },
        "id": "xWiwSql7cAcv",
        "outputId": "6565a6cc-24fd-48d1-e390-d65e652da016"
      },
      "execution_count": 28,
      "outputs": [
        {
          "output_type": "stream",
          "name": "stdout",
          "text": [
            "7\n"
          ]
        }
      ]
    },
    {
      "cell_type": "markdown",
      "source": [
        "##### Folating Type"
      ],
      "metadata": {
        "id": "7c843Jg5WWLQ"
      }
    },
    {
      "cell_type": "code",
      "source": [
        "y=0.5 # folating Number\n",
        "type(y)"
      ],
      "metadata": {
        "colab": {
          "base_uri": "https://localhost:8080/",
          "height": 0
        },
        "id": "FxjVm9IQWXWv",
        "outputId": "8fb9d02f-d7c4-4adf-d11b-d30118bf8cde"
      },
      "execution_count": 17,
      "outputs": [
        {
          "output_type": "execute_result",
          "data": {
            "text/plain": [
              "float"
            ]
          },
          "metadata": {},
          "execution_count": 17
        }
      ]
    },
    {
      "cell_type": "markdown",
      "source": [
        "Write a line of python code take a folating type from the user!"
      ],
      "metadata": {
        "id": "EHzhvetOWxU9"
      }
    },
    {
      "cell_type": "code",
      "source": [
        "num=float(input(\"Enter the float type: \"))"
      ],
      "metadata": {
        "colab": {
          "base_uri": "https://localhost:8080/",
          "height": 0
        },
        "id": "35qUzYTeXB3D",
        "outputId": "881d2704-6cef-4c8b-b8ea-b15a49ec7e36"
      },
      "execution_count": 19,
      "outputs": [
        {
          "name": "stdout",
          "output_type": "stream",
          "text": [
            "Enter the floating type: 5.8\n"
          ]
        }
      ]
    },
    {
      "cell_type": "code",
      "source": [
        "# Task: Multiply two floats\n",
        "result = num * 2.5\n",
        "print(result)"
      ],
      "metadata": {
        "colab": {
          "base_uri": "https://localhost:8080/",
          "height": 0
        },
        "id": "BokVbWXhcrgT",
        "outputId": "41395935-4a9c-4704-8ae9-259f94cc405f"
      },
      "execution_count": 29,
      "outputs": [
        {
          "output_type": "stream",
          "name": "stdout",
          "text": [
            "14.5\n"
          ]
        }
      ]
    },
    {
      "cell_type": "markdown",
      "source": [
        "##### Complex Type"
      ],
      "metadata": {
        "id": "XUJXGelrXk9K"
      }
    },
    {
      "cell_type": "code",
      "source": [
        "z=2+3j # Complex number\n",
        "type(z)"
      ],
      "metadata": {
        "colab": {
          "base_uri": "https://localhost:8080/",
          "height": 0
        },
        "id": "cVYrwXRnXpJf",
        "outputId": "cfabcf65-1212-49bc-c5a6-6d36f030e2bb"
      },
      "execution_count": 21,
      "outputs": [
        {
          "output_type": "execute_result",
          "data": {
            "text/plain": [
              "complex"
            ]
          },
          "metadata": {},
          "execution_count": 21
        }
      ]
    },
    {
      "cell_type": "code",
      "source": [
        "z=complex(input(\"Enter the Complex Number: \"))"
      ],
      "metadata": {
        "colab": {
          "base_uri": "https://localhost:8080/",
          "height": 0
        },
        "id": "I_3EYtkXYmwA",
        "outputId": "c753a369-6c74-454a-832e-efc089add46a"
      },
      "execution_count": 25,
      "outputs": [
        {
          "name": "stdout",
          "output_type": "stream",
          "text": [
            "Enter the Complex Number: 3+5j\n"
          ]
        }
      ]
    },
    {
      "cell_type": "code",
      "source": [
        "print(type(z))"
      ],
      "metadata": {
        "colab": {
          "base_uri": "https://localhost:8080/",
          "height": 0
        },
        "id": "62L1veFrZFnR",
        "outputId": "897625a4-dc5c-4c28-c4b5-853c9e0519ee"
      },
      "execution_count": 27,
      "outputs": [
        {
          "output_type": "stream",
          "name": "stdout",
          "text": [
            "<class 'complex'>\n"
          ]
        }
      ]
    },
    {
      "cell_type": "markdown",
      "source": [
        "### 2. Sequence Types\n",
        "\n",
        "*   Str\n",
        "\n",
        "*   list\n",
        "*   tuple\n",
        "\n"
      ],
      "metadata": {
        "id": "J1FzRc6tZenO"
      }
    },
    {
      "cell_type": "markdown",
      "source": [
        "##### String"
      ],
      "metadata": {
        "id": "RM0WQOrnaZ4k"
      }
    },
    {
      "cell_type": "code",
      "source": [
        "# Example\n",
        "string_variable = \"Hello, World!\""
      ],
      "metadata": {
        "id": "dKb36J2OaY8D"
      },
      "execution_count": 31,
      "outputs": []
    },
    {
      "cell_type": "code",
      "source": [
        "# Task: Concatenate two strings\n",
        "new_string = string_variable + \" How are you?\"\n",
        "print(new_string)"
      ],
      "metadata": {
        "colab": {
          "base_uri": "https://localhost:8080/",
          "height": 0
        },
        "id": "j0AEtqwOdWEu",
        "outputId": "87d206d0-b5b2-4e2e-963f-0160e48c37ce"
      },
      "execution_count": 32,
      "outputs": [
        {
          "output_type": "stream",
          "name": "stdout",
          "text": [
            "Hello, World! How are you?\n"
          ]
        }
      ]
    },
    {
      "cell_type": "markdown",
      "source": [
        "write a python code to say your firend \"hi Dostdar, How are you? I hope you are fine\""
      ],
      "metadata": {
        "id": "3VJ4yA7-dg89"
      }
    },
    {
      "cell_type": "code",
      "source": [],
      "metadata": {
        "id": "dc4qxZFFeHU3"
      },
      "execution_count": null,
      "outputs": []
    },
    {
      "cell_type": "markdown",
      "source": [
        "##### List"
      ],
      "metadata": {
        "id": "aD2bTlFCeeVD"
      }
    },
    {
      "cell_type": "code",
      "source": [
        "# Example\n",
        "list_variable = [1, 2, 3, 4, 5]"
      ],
      "metadata": {
        "id": "tOZM2qQHehes"
      },
      "execution_count": 34,
      "outputs": []
    },
    {
      "cell_type": "code",
      "source": [
        "# Task: Append an element to the list\n",
        "list_variable.append(6)\n",
        "print(list_variable)"
      ],
      "metadata": {
        "colab": {
          "base_uri": "https://localhost:8080/",
          "height": 0
        },
        "id": "HB5hjQx5euwK",
        "outputId": "bf2f5681-43c1-4dd0-ce8a-aecb7f232b7c"
      },
      "execution_count": 35,
      "outputs": [
        {
          "output_type": "stream",
          "name": "stdout",
          "text": [
            "[1, 2, 3, 4, 5, 6]\n"
          ]
        }
      ]
    },
    {
      "cell_type": "markdown",
      "source": [
        "##### Tuple"
      ],
      "metadata": {
        "id": "lelTyM_je3J4"
      }
    },
    {
      "cell_type": "code",
      "source": [
        "# Example\n",
        "tuple_variable = (10, 20, 30)"
      ],
      "metadata": {
        "id": "K4fMb5aae8OF"
      },
      "execution_count": 36,
      "outputs": []
    },
    {
      "cell_type": "code",
      "source": [
        "# Task: Access an element in the tuple\n",
        "element = tuple_variable[1]\n",
        "print(element)"
      ],
      "metadata": {
        "colab": {
          "base_uri": "https://localhost:8080/",
          "height": 0
        },
        "id": "BBhGWBJJfNc_",
        "outputId": "ae414acf-5e96-4b9a-e0cf-cd714ae0964a"
      },
      "execution_count": 37,
      "outputs": [
        {
          "output_type": "stream",
          "name": "stdout",
          "text": [
            "20\n"
          ]
        }
      ]
    },
    {
      "cell_type": "markdown",
      "source": [
        "### 3. Set and Mapping Types"
      ],
      "metadata": {
        "id": "A0-wir0qfbHa"
      }
    },
    {
      "cell_type": "markdown",
      "source": [
        "##### Set"
      ],
      "metadata": {
        "id": "_tTK9MzNfnkm"
      }
    },
    {
      "cell_type": "code",
      "source": [
        "# Example\n",
        "set_var = {1, 2, 3, 4, 5}"
      ],
      "metadata": {
        "id": "XZvJwmmAfw9U"
      },
      "execution_count": 41,
      "outputs": []
    },
    {
      "cell_type": "code",
      "source": [
        "# Task: Remove an element from the set\n",
        "set_var.remove(3)\n",
        "print(set_var)"
      ],
      "metadata": {
        "colab": {
          "base_uri": "https://localhost:8080/",
          "height": 0
        },
        "id": "0JA4_-_df4vC",
        "outputId": "03234803-6d15-4a18-b474-f4a61fae11ed"
      },
      "execution_count": 42,
      "outputs": [
        {
          "output_type": "stream",
          "name": "stdout",
          "text": [
            "{1, 2, 4, 5}\n"
          ]
        }
      ]
    },
    {
      "cell_type": "markdown",
      "source": [
        "##### Dictionary"
      ],
      "metadata": {
        "id": "tRWUQQoigpO9"
      }
    },
    {
      "cell_type": "code",
      "source": [
        "# Example\n",
        "dictionary_var = {'University': 'Kiu', 'Porivence': 'Gilgit Baltistan'}"
      ],
      "metadata": {
        "id": "1-hs0E5cgx3t"
      },
      "execution_count": 51,
      "outputs": []
    },
    {
      "cell_type": "code",
      "source": [
        "# Task: Add a new key-value pair to the dictionary\n",
        "dictionary_var['Teshli'] = 'Danyore'\n",
        "print(dictionary_var)\n"
      ],
      "metadata": {
        "colab": {
          "base_uri": "https://localhost:8080/",
          "height": 0
        },
        "id": "m4F2g8Qmg8sR",
        "outputId": "a62c86ba-f3bd-44b9-b878-f8440b8b079a"
      },
      "execution_count": 52,
      "outputs": [
        {
          "output_type": "stream",
          "name": "stdout",
          "text": [
            "{'University': 'Kiu', 'Porivence': 'Gilgit Baltistan', 'Teshli': 'Danyore'}\n"
          ]
        }
      ]
    },
    {
      "cell_type": "markdown",
      "source": [
        "### 4. Boolean and None Type"
      ],
      "metadata": {
        "id": "uuyL5MDAiDuF"
      }
    },
    {
      "cell_type": "markdown",
      "source": [
        "##### Boolean"
      ],
      "metadata": {
        "id": "-V7MY_0JiMNe"
      }
    },
    {
      "cell_type": "code",
      "source": [
        "# Example\n",
        "bool_variable = True"
      ],
      "metadata": {
        "id": "rznxPzQQiDSN"
      },
      "execution_count": 53,
      "outputs": []
    },
    {
      "cell_type": "code",
      "source": [
        "# Task: Check if a boolean variable is True\n",
        "if bool_variable:\n",
        "    print(\"It's True!\")"
      ],
      "metadata": {
        "colab": {
          "base_uri": "https://localhost:8080/",
          "height": 0
        },
        "id": "Cjq5Ej9BiXIo",
        "outputId": "1d0e5da7-8760-4cc4-b41e-5517cebd4f05"
      },
      "execution_count": 54,
      "outputs": [
        {
          "output_type": "stream",
          "name": "stdout",
          "text": [
            "It's True!\n"
          ]
        }
      ]
    }
  ]
}