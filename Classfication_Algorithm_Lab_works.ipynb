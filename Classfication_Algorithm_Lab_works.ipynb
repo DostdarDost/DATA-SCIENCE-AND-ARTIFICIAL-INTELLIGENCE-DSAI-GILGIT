{
  "cells": [
    {
      "cell_type": "markdown",
      "metadata": {
        "id": "view-in-github",
        "colab_type": "text"
      },
      "source": [
        "<a href=\"https://colab.research.google.com/github/DostdarDost/DATA-SCIENCE-AND-ARTIFICIAL-INTELLIGENCE-DSAI-GILGIT/blob/main/Classfication_Algorithm_Lab_works.ipynb\" target=\"_parent\"><img src=\"https://colab.research.google.com/assets/colab-badge.svg\" alt=\"Open In Colab\"/></a>"
      ]
    },
    {
      "cell_type": "markdown",
      "id": "3b219e37",
      "metadata": {
        "id": "3b219e37"
      },
      "source": [
        "# Module_04, Machine Learning, Hand-0n-lab\n",
        "\n",
        "> 1. Supervised Machine Learning\n",
        ">> 1.1 Supervised Algrothims\n",
        ">>> 1. Classfication tasks"
      ]
    },
    {
      "cell_type": "markdown",
      "id": "a14bb503",
      "metadata": {
        "id": "a14bb503"
      },
      "source": [
        "### Classfication Algorithms\n",
        ">Example_01"
      ]
    },
    {
      "cell_type": "markdown",
      "id": "bb2658df",
      "metadata": {
        "id": "bb2658df"
      },
      "source": [
        "The data we will use for this example is the Iris dataset, a classical dataset in machine learning and statistics. It is included in scikit-learn in the datasets module. We can load it by calling the load_iris function:\n"
      ]
    },
    {
      "cell_type": "code",
      "execution_count": null,
      "id": "192e6b97",
      "metadata": {
        "id": "192e6b97"
      },
      "outputs": [],
      "source": [
        "from sklearn.datasets import load_iris\n",
        "df = load_iris()"
      ]
    },
    {
      "cell_type": "markdown",
      "id": "3f9f1b89",
      "metadata": {
        "id": "3f9f1b89"
      },
      "source": [
        "The iris object that is returned by load_iris is a Bunch object, which is very similar to a dictionary. It contains keys and values"
      ]
    },
    {
      "cell_type": "code",
      "execution_count": null,
      "id": "c9bbdb53",
      "metadata": {
        "id": "c9bbdb53",
        "outputId": "e728860c-2827-4f7b-fc0a-2ecb2774e911"
      },
      "outputs": [
        {
          "name": "stdout",
          "output_type": "stream",
          "text": [
            "Keys of iris_dataset: \n",
            "dict_keys(['data', 'target', 'frame', 'target_names', 'DESCR', 'feature_names', 'filename'])\n"
          ]
        }
      ],
      "source": [
        "print(\"Keys of iris_dataset: \\n{}\".format(df.keys()))"
      ]
    },
    {
      "cell_type": "code",
      "execution_count": null,
      "id": "787c9f5c",
      "metadata": {
        "id": "787c9f5c",
        "outputId": "79810471-9660-4a2d-de99-f69ef9f3c36f"
      },
      "outputs": [
        {
          "name": "stdout",
          "output_type": "stream",
          "text": [
            ".. _iris_dataset:\n",
            "\n",
            "Iris plants dataset\n",
            "--------------------\n",
            "\n",
            "**Data Set Characteristics:**\n",
            "\n",
            "    :Number of Instances: 150 (50 in each of three classes)\n",
            "    :Number of Attributes: 4 numeric, pre\n",
            "...\n"
          ]
        }
      ],
      "source": [
        "print(df['DESCR'][:193] + \"\\n...\")"
      ]
    },
    {
      "cell_type": "code",
      "execution_count": null,
      "id": "8aca6b8e",
      "metadata": {
        "id": "8aca6b8e",
        "outputId": "a521c6e4-c09a-4273-befe-110ad855dced"
      },
      "outputs": [
        {
          "name": "stdout",
          "output_type": "stream",
          "text": [
            "Target names: ['setosa' 'versicolor' 'virginica']\n"
          ]
        }
      ],
      "source": [
        "print(\"Target names: {}\".format(df['target_names']))"
      ]
    },
    {
      "cell_type": "code",
      "execution_count": null,
      "id": "19949836",
      "metadata": {
        "id": "19949836",
        "outputId": "5f2c34b0-404e-408d-86f2-a5653968fb7b"
      },
      "outputs": [
        {
          "name": "stdout",
          "output_type": "stream",
          "text": [
            "Feature names: \n",
            "['sepal length (cm)', 'sepal width (cm)', 'petal length (cm)', 'petal width (cm)']\n"
          ]
        }
      ],
      "source": [
        "print(\"Feature names: \\n{}\".format(df['feature_names']))"
      ]
    },
    {
      "cell_type": "code",
      "execution_count": null,
      "id": "f2696f42",
      "metadata": {
        "id": "f2696f42",
        "outputId": "73252825-7d01-4fe5-9d1c-f3b20965c7bd"
      },
      "outputs": [
        {
          "name": "stdout",
          "output_type": "stream",
          "text": [
            "Type of data: <class 'numpy.ndarray'>\n"
          ]
        }
      ],
      "source": [
        "print(\"Type of data: {}\".format(type(df['data'])))"
      ]
    },
    {
      "cell_type": "code",
      "execution_count": null,
      "id": "cd4b13a9",
      "metadata": {
        "id": "cd4b13a9",
        "outputId": "0f4a72b3-e794-4a6f-8986-e64b8ebd5868"
      },
      "outputs": [
        {
          "name": "stdout",
          "output_type": "stream",
          "text": [
            "Shape of data: (150, 4)\n"
          ]
        }
      ],
      "source": [
        "print(\"Shape of data: {}\".format(df['data'].shape))"
      ]
    },
    {
      "cell_type": "markdown",
      "id": "7fa7b91c",
      "metadata": {
        "id": "7fa7b91c"
      },
      "source": [
        "We see that the array contains measurements for 150 different flowers. Remember that the individual items are called samples in machine learning, and their properties are called features. The shape of the data array is the number of samples multiplied by the number of features. This is a convention in scikit-learn, and your data will always be assumed to be in this shape. Here are the feature values for the first five samples:"
      ]
    },
    {
      "cell_type": "code",
      "execution_count": null,
      "id": "65e861cd",
      "metadata": {
        "id": "65e861cd",
        "outputId": "c391bccd-6339-47cc-8762-242a967726d8"
      },
      "outputs": [
        {
          "name": "stdout",
          "output_type": "stream",
          "text": [
            "First five columns of data:\n",
            "[[5.1 3.5 1.4 0.2]\n",
            " [4.9 3.  1.4 0.2]\n",
            " [4.7 3.2 1.3 0.2]\n",
            " [4.6 3.1 1.5 0.2]\n",
            " [5.  3.6 1.4 0.2]]\n"
          ]
        }
      ],
      "source": [
        "print(\"First five columns of data:\\n{}\".format(df['data'][:5]))"
      ]
    },
    {
      "cell_type": "markdown",
      "id": "9a91cd71",
      "metadata": {
        "id": "9a91cd71"
      },
      "source": [
        "From this data, we can see that all of the first five flowers have a petal width of 0.2 cm and that the first flower has the longest sepal, at 5.1 cm. The target array contains the species of each of the flowers that were measured, also as a NumPy array:"
      ]
    },
    {
      "cell_type": "code",
      "execution_count": null,
      "id": "339f5466",
      "metadata": {
        "scrolled": true,
        "id": "339f5466",
        "outputId": "20f5b209-1b66-4527-8f1f-03091016be75"
      },
      "outputs": [
        {
          "name": "stdout",
          "output_type": "stream",
          "text": [
            "Type of target: <class 'numpy.ndarray'>\n"
          ]
        }
      ],
      "source": [
        "print(\"Type of target: {}\".format(type(df['target'])))"
      ]
    },
    {
      "cell_type": "markdown",
      "id": "e56c7b66",
      "metadata": {
        "id": "e56c7b66"
      },
      "source": [
        "target is a one-dimensional array, with one entry per flower"
      ]
    },
    {
      "cell_type": "code",
      "execution_count": null,
      "id": "da4c193d",
      "metadata": {
        "id": "da4c193d",
        "outputId": "78ac8f71-4fca-412f-883c-04c04624e3b0"
      },
      "outputs": [
        {
          "name": "stdout",
          "output_type": "stream",
          "text": [
            "Shape of target: (150,)\n"
          ]
        }
      ],
      "source": [
        "print(\"Shape of target: {}\".format(df['target'].shape))"
      ]
    },
    {
      "cell_type": "code",
      "execution_count": null,
      "id": "17b1e72a",
      "metadata": {
        "id": "17b1e72a",
        "outputId": "084a6349-aeb8-4eca-dd1f-2a600e9c1f8d"
      },
      "outputs": [
        {
          "name": "stdout",
          "output_type": "stream",
          "text": [
            "Target:\n",
            "[0 0 0 0 0 0 0 0 0 0 0 0 0 0 0 0 0 0 0 0 0 0 0 0 0 0 0 0 0 0 0 0 0 0 0 0 0\n",
            " 0 0 0 0 0 0 0 0 0 0 0 0 0 1 1 1 1 1 1 1 1 1 1 1 1 1 1 1 1 1 1 1 1 1 1 1 1\n",
            " 1 1 1 1 1 1 1 1 1 1 1 1 1 1 1 1 1 1 1 1 1 1 1 1 1 1 2 2 2 2 2 2 2 2 2 2 2\n",
            " 2 2 2 2 2 2 2 2 2 2 2 2 2 2 2 2 2 2 2 2 2 2 2 2 2 2 2 2 2 2 2 2 2 2 2 2 2\n",
            " 2 2]\n"
          ]
        }
      ],
      "source": [
        "print(\"Target:\\n{}\".format(df['target']))"
      ]
    },
    {
      "cell_type": "markdown",
      "id": "2046585d",
      "metadata": {
        "id": "2046585d"
      },
      "source": [
        "The meanings of the numbers are given by the iris['target_names'] array: 0 means setosa, 1 means versicolor, and 2 means virginica."
      ]
    }
  ],
  "metadata": {
    "kernelspec": {
      "display_name": "Python 3",
      "language": "python",
      "name": "python3"
    },
    "language_info": {
      "codemirror_mode": {
        "name": "ipython",
        "version": 3
      },
      "file_extension": ".py",
      "mimetype": "text/x-python",
      "name": "python",
      "nbconvert_exporter": "python",
      "pygments_lexer": "ipython3",
      "version": "3.8.8"
    },
    "colab": {
      "provenance": [],
      "include_colab_link": true
    }
  },
  "nbformat": 4,
  "nbformat_minor": 5
}